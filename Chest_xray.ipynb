{
  "nbformat": 4,
  "nbformat_minor": 0,
  "metadata": {
    "colab": {
      "name": "Chest_xray.ipynb",
      "provenance": [],
      "authorship_tag": "ABX9TyMZVacefdICDleKMsRAlLtk",
      "include_colab_link": true
    },
    "kernelspec": {
      "name": "python3",
      "display_name": "Python 3"
    },
    "language_info": {
      "name": "python"
    }
  },
  "cells": [
    {
      "cell_type": "markdown",
      "metadata": {
        "id": "view-in-github",
        "colab_type": "text"
      },
      "source": [
        "<a href=\"https://colab.research.google.com/github/Shrenik811rp/Chest-xray-project/blob/master/Chest_xray.ipynb\" target=\"_parent\"><img src=\"https://colab.research.google.com/assets/colab-badge.svg\" alt=\"Open In Colab\"/></a>"
      ]
    },
    {
      "cell_type": "code",
      "metadata": {
        "id": "z_IFkHJtGQBq"
      },
      "source": [
        "import numpy as np\n",
        "import pandas as pd\n",
        "from PIL import Image\n",
        "import matplotlib.pyplot as plt\n",
        "\n",
        "import tensorflow as tf\n",
        "from tensorflow.keras.layers import Flatten,Conv2D,Activation,Dense,MaxPooling2D,Dropout\n",
        "\n",
        "from tensorflow.keras.models import Sequential\n",
        "\n",
        "import cv2\n",
        "import os\n",
        "import random"
      ],
      "execution_count": 2,
      "outputs": []
    },
    {
      "cell_type": "code",
      "metadata": {
        "id": "t0Rca-5_HxHP"
      },
      "source": [
        "dataset_folder = os.listdir(\"xray_dataset/chest_xray\")\n",
        "\n",
        "print(dataset_folder)\n",
        "#print(np.__version__)\n"
      ],
      "execution_count": null,
      "outputs": []
    },
    {
      "cell_type": "code",
      "metadata": {
        "id": "Ao2q7QOnJHUz"
      },
      "source": [
        "'''\n",
        "Folder paths\n",
        "'''\n",
        "train_folder = \"xray_dataset/chest_xray/train\"\n",
        "\n",
        "test_folder = \"xray_dataset/chest_xray/test\"\n",
        "\n",
        "validation_folder =\"xray_dataset/chest_xray/val\"\n",
        "\n"
      ],
      "execution_count": null,
      "outputs": []
    },
    {
      "cell_type": "code",
      "metadata": {
        "id": "Q1-UOIBVJMC7"
      },
      "source": [
        "\n",
        "'''\n",
        "Test,Train,Val have these folders\n",
        "'''\n",
        "labels = [\"NORMAL\",\"PNEUMONIA\"]\n",
        "\n",
        "img_size = 50\n",
        "\n",
        "def getData(dir):\n",
        "    data = []\n",
        "\n",
        "    for label in labels:\n",
        "\n",
        "        path = os.path.join(dir,label)\n",
        "        class_num = labels.index(label)\n",
        "\n",
        "        for img in os.listdir(path):\n",
        "\n",
        "            try:\n",
        "                img_arr = cv2.imread(os.path.join(path,img),cv2.IMREAD_GRAYSCALE)\n",
        "\n",
        "                new_arr = cv2.resize(img_arr,(img_size,img_size))\n",
        "\n",
        "                data.append([new_arr,class_num])\n",
        "            \n",
        "            except Exception as error:\n",
        "                print(error)\n",
        "    \n",
        "    return np.array(data,dtype=object)\n",
        "\n",
        "\n",
        "train = getData(train_folder)\n",
        "\n",
        "test = getData(test_folder)\n",
        "\n",
        "val = getData(validation_folder)\n"
      ],
      "execution_count": null,
      "outputs": []
    },
    {
      "cell_type": "code",
      "metadata": {
        "id": "7n1i277YJMAH"
      },
      "source": [
        "\n",
        "\n",
        "'''\n",
        "Splitting data into training and testing data\n",
        "\n",
        "Extracting features and respective labels of data\n",
        "'''\n",
        "X_train = []\n",
        "Y_train = []\n",
        "\n",
        "X_val = []\n",
        "Y_val = []\n",
        "\n",
        "X_test = []\n",
        "Y_test = []\n",
        "\n",
        "\n",
        "'''\n",
        "\n",
        "Appending features to X\n",
        "Appending labels to Y\n",
        "\n",
        "'''\n",
        "for feature, label in train:\n",
        "    X_train.append(feature)\n",
        "    Y_train.append(label)\n",
        "\n",
        "for feature, label in test:\n",
        "    X_test.append(feature)\n",
        "    Y_test.append(label)\n",
        "    \n",
        "for feature, label in val:\n",
        "    X_val.append(feature)\n",
        "    Y_val.append(label)"
      ],
      "execution_count": null,
      "outputs": []
    },
    {
      "cell_type": "code",
      "metadata": {
        "id": "Jz_QkLPOJL9N"
      },
      "source": [
        "'''\n",
        "Normalisation\n",
        "'''\n",
        "\n",
        "X_train = np.array(X_train) / 255\n",
        "\n",
        "X_val = np.array(X_val) / 255\n",
        "\n",
        "X_test = np.array(X_test) / 255\n"
      ],
      "execution_count": null,
      "outputs": []
    },
    {
      "cell_type": "code",
      "metadata": {
        "id": "WDYBawZtJL6V"
      },
      "source": [
        "\n",
        "'''\n",
        "Dimensions\n",
        "'''\n",
        "print(f\"X_train shape: {X_train.shape}\")\n",
        "\n",
        "print(f\"X_test shape: {X_test.shape}\")\n",
        "\n",
        "print(f\"X_val shape: {X_val.shape}\")\n",
        "\n",
        "print(f\"Y_train length: {len(Y_train)}\")\n",
        "\n",
        "print(f\"Y_test length : {len(Y_test)}\")\n",
        "\n",
        "print(f\"Y_val length : {len(Y_val)}\")\n",
        "\n"
      ],
      "execution_count": null,
      "outputs": []
    },
    {
      "cell_type": "code",
      "metadata": {
        "id": "TWpNqWXeJL3g"
      },
      "source": [
        "\n",
        "'''\n",
        "Resizing the test ,train and validation array\n",
        "\n",
        "'''\n",
        "\n",
        "X_train = X_train.reshape(-1, img_size, img_size, 1)\n",
        "Y_train = np.array(Y_train)\n",
        "\n",
        "X_val = X_val.reshape(-1, img_size, img_size, 1)\n",
        "Y_val = np.array(Y_val)\n",
        "\n",
        "X_test = X_test.reshape(-1, img_size, img_size, 1)\n",
        "Y_test = np.array(Y_test)\n"
      ],
      "execution_count": null,
      "outputs": []
    },
    {
      "cell_type": "code",
      "metadata": {
        "id": "kJ6oBZSyJL04"
      },
      "source": [
        "'''\n",
        "New resized dimensions\n",
        "\n",
        "'''\n",
        "print(f\"X_train shape new : {X_train.shape}\")\n",
        "\n",
        "print(f\"X_test shape new : {X_test.shape}\")\n",
        "\n",
        "print(f\"X_val shape new : {X_val.shape}\")\n",
        "\n",
        "print(f\"Y_train shape new length: {len(Y_train)}\")\n",
        "\n",
        "print(f\"Y_test shape new length: {len(Y_test)}\")\n",
        "\n",
        "print(f\"Y_val shape new length: {len(Y_val)}\")\n",
        "\n",
        "\n"
      ],
      "execution_count": null,
      "outputs": []
    },
    {
      "cell_type": "code",
      "metadata": {
        "id": "Ae72zdtPJLyU"
      },
      "source": [
        "\n",
        "\n",
        "'''\n",
        "Training Model using CNN\n",
        "'''\n",
        "\n",
        "\n",
        "\n",
        "model = Sequential()\n",
        "\n",
        "'''\n",
        "Passing the model through a convolution model \n",
        "Activation method used is relu\n",
        "'''\n",
        "model.add(Conv2D(32, (3, 3), padding=\"same\", input_shape=X_train.shape[1:]))\n",
        "model.add(Activation(\"relu\"))\n",
        "model.add(MaxPooling2D(2, 2))\n",
        "model.add(Dropout(0.2))\n",
        "\n",
        "model.add(Conv2D(64, (3, 3), padding=\"same\"))\n",
        "model.add(Activation(\"relu\"))\n",
        "model.add(MaxPooling2D(2, 2))\n",
        "model.add(Dropout(0.2))\n",
        "\n",
        "model.add(Conv2D(128, (3, 3), padding=\"same\"))\n",
        "model.add(Activation(\"relu\"))\n",
        "model.add(MaxPooling2D(2, 2))\n",
        "model.add(Dropout(0.2))\n",
        "\n",
        "\n",
        "#Flattening the model into 1D array\n",
        "model.add(Flatten())\n",
        "model.add(Dense(256, activation=\"relu\"))\n",
        "\n",
        "model.add(Dense(1))\n",
        "model.add(Activation(\"sigmoid\"))\n"
      ],
      "execution_count": null,
      "outputs": []
    },
    {
      "cell_type": "code",
      "metadata": {
        "id": "IoC_SQOSJLvq"
      },
      "source": [
        "'''\n",
        "Use squared error to reduce loss\n",
        "\n",
        "Number of epochs run is 20\n",
        "'''\n",
        "model.compile(loss=\"binary_crossentropy\", optimizer=\"adam\", metrics=[\"accuracy\"])\n",
        "history = model.fit(X_train, Y_train, epochs=10, validation_data=(X_val, Y_val), shuffle=True)\n",
        "scores = model.evaluate(X_test, Y_test)\n",
        "\n",
        "model.save(\"cnn.model\")\n",
        "\n",
        "\n",
        "\n",
        "# Accuracy and loss scores\n",
        "print(\"Test loss {}\".format(scores[0]))\n",
        "print(\"Test accuracy {}\".format(scores[1]))\n"
      ],
      "execution_count": null,
      "outputs": []
    },
    {
      "cell_type": "code",
      "metadata": {
        "id": "Ffsyj0e3JLs0"
      },
      "source": [
        "# visualizing the accuracy and loss of model\n",
        "\n",
        "accuracy = history.history['accuracy']\n",
        "val_accuracy = history.history['val_accuracy']\n",
        "loss = history.history['loss']\n",
        "val_loss = history.history['val_loss']\n",
        "epochs = range(len(accuracy))\n",
        "\n",
        "plt.plot(epochs, accuracy, \"b\", label=\"trainning accuracy\")\n",
        "plt.plot(epochs, val_accuracy, \"r\", label=\"validation accuracy\")\n",
        "plt.legend()\n",
        "plt.show()\n",
        "\n",
        "plt.plot(epochs, loss, \"b\", label=\"trainning loss\")\n",
        "plt.plot(epochs, val_loss, \"r\", label=\"validation loss\")\n",
        "plt.legend()\n",
        "plt.show()"
      ],
      "execution_count": null,
      "outputs": []
    },
    {
      "cell_type": "code",
      "metadata": {
        "id": "cBwH2BXrKRWB"
      },
      "source": [
        "from google.colab import drive\n",
        "drive.mount('/content/drive')"
      ],
      "execution_count": null,
      "outputs": []
    },
    {
      "cell_type": "code",
      "metadata": {
        "id": "EsAgsihZJLp6"
      },
      "source": [
        ""
      ],
      "execution_count": null,
      "outputs": []
    },
    {
      "cell_type": "code",
      "metadata": {
        "id": "KA6OpadmJLnJ"
      },
      "source": [
        ""
      ],
      "execution_count": null,
      "outputs": []
    },
    {
      "cell_type": "code",
      "metadata": {
        "id": "I1hTj7BjJLkS"
      },
      "source": [
        ""
      ],
      "execution_count": null,
      "outputs": []
    },
    {
      "cell_type": "code",
      "metadata": {
        "id": "xMD3OP5YJLhk"
      },
      "source": [
        ""
      ],
      "execution_count": null,
      "outputs": []
    },
    {
      "cell_type": "code",
      "metadata": {
        "id": "n0vvy5mmJLez"
      },
      "source": [
        ""
      ],
      "execution_count": null,
      "outputs": []
    },
    {
      "cell_type": "code",
      "metadata": {
        "id": "9NA-owC4JLcJ"
      },
      "source": [
        ""
      ],
      "execution_count": null,
      "outputs": []
    },
    {
      "cell_type": "code",
      "metadata": {
        "id": "ryDxdwaCJLZh"
      },
      "source": [
        ""
      ],
      "execution_count": null,
      "outputs": []
    },
    {
      "cell_type": "code",
      "metadata": {
        "id": "UG58kkPIJLWq"
      },
      "source": [
        ""
      ],
      "execution_count": null,
      "outputs": []
    },
    {
      "cell_type": "code",
      "metadata": {
        "id": "RipdPQvmJLUD"
      },
      "source": [
        ""
      ],
      "execution_count": null,
      "outputs": []
    },
    {
      "cell_type": "code",
      "metadata": {
        "id": "qzY2Fh9XJLRa"
      },
      "source": [
        ""
      ],
      "execution_count": null,
      "outputs": []
    },
    {
      "cell_type": "code",
      "metadata": {
        "id": "zYvr45X2JLOl"
      },
      "source": [
        ""
      ],
      "execution_count": null,
      "outputs": []
    },
    {
      "cell_type": "code",
      "metadata": {
        "id": "8n9xBW8zJLEc"
      },
      "source": [
        ""
      ],
      "execution_count": null,
      "outputs": []
    },
    {
      "cell_type": "code",
      "metadata": {
        "id": "yQKtCI-BJLBj"
      },
      "source": [
        ""
      ],
      "execution_count": null,
      "outputs": []
    },
    {
      "cell_type": "code",
      "metadata": {
        "id": "f2pKF_RBJK-9"
      },
      "source": [
        ""
      ],
      "execution_count": null,
      "outputs": []
    },
    {
      "cell_type": "code",
      "metadata": {
        "id": "oG8CW-lpJKxr"
      },
      "source": [
        ""
      ],
      "execution_count": null,
      "outputs": []
    },
    {
      "cell_type": "code",
      "metadata": {
        "id": "E3xI0D7-JKuz"
      },
      "source": [
        ""
      ],
      "execution_count": null,
      "outputs": []
    },
    {
      "cell_type": "code",
      "metadata": {
        "id": "dTS7-jBwJKr2"
      },
      "source": [
        ""
      ],
      "execution_count": null,
      "outputs": []
    },
    {
      "cell_type": "code",
      "metadata": {
        "id": "Cg4T0PqmJKpQ"
      },
      "source": [
        ""
      ],
      "execution_count": null,
      "outputs": []
    },
    {
      "cell_type": "code",
      "metadata": {
        "id": "iBnmsCnVJKmd"
      },
      "source": [
        ""
      ],
      "execution_count": null,
      "outputs": []
    },
    {
      "cell_type": "code",
      "metadata": {
        "id": "l3oTG3EXJKjp"
      },
      "source": [
        ""
      ],
      "execution_count": null,
      "outputs": []
    },
    {
      "cell_type": "code",
      "metadata": {
        "id": "xI7qIlaHJKg3"
      },
      "source": [
        ""
      ],
      "execution_count": null,
      "outputs": []
    },
    {
      "cell_type": "code",
      "metadata": {
        "id": "RqU5BV0UJKVD"
      },
      "source": [
        ""
      ],
      "execution_count": null,
      "outputs": []
    },
    {
      "cell_type": "code",
      "metadata": {
        "id": "BNSR0nCFJKSL"
      },
      "source": [
        ""
      ],
      "execution_count": null,
      "outputs": []
    }
  ]
}