{
  "nbformat": 4,
  "nbformat_minor": 0,
  "metadata": {
    "accelerator": "TPU",
    "colab": {
      "name": "Chest_xray.ipynb",
      "provenance": [],
      "collapsed_sections": [],
      "include_colab_link": true
    },
    "kernelspec": {
      "display_name": "Python 3",
      "name": "python3"
    },
    "language_info": {
      "name": "python"
    }
  },
  "cells": [
    {
      "cell_type": "markdown",
      "metadata": {
        "id": "view-in-github",
        "colab_type": "text"
      },
      "source": [
        "<a href=\"https://colab.research.google.com/github/Shrenik811rp/Chest-xray-project/blob/master/Chest_xray.ipynb\" target=\"_parent\"><img src=\"https://colab.research.google.com/assets/colab-badge.svg\" alt=\"Open In Colab\"/></a>"
      ]
    },
    {
      "cell_type": "markdown",
      "metadata": {
        "id": "EnuFp9R3vvAV"
      },
      "source": [
        "#**CNN**"
      ]
    },
    {
      "cell_type": "code",
      "metadata": {
        "id": "z_IFkHJtGQBq"
      },
      "source": [
        "\n",
        "import numpy as np # linear algebra\n",
        "import pandas as pd # data processing, CSV file I/O (e.g. pd.read_csv)\n",
        "import cv2 # import cv2\n",
        "import os"
      ],
      "execution_count": 1,
      "outputs": []
    },
    {
      "cell_type": "code",
      "metadata": {
        "colab": {
          "base_uri": "https://localhost:8080/"
        },
        "id": "Pk3X8fUMMRn_",
        "outputId": "20da2176-e4d9-4e7c-a291-0776038878d6"
      },
      "source": [
        "from google.colab import drive\n",
        "drive.mount('/content/drive')"
      ],
      "execution_count": 2,
      "outputs": [
        {
          "output_type": "stream",
          "name": "stdout",
          "text": [
            "Mounted at /content/drive\n"
          ]
        }
      ]
    },
    {
      "cell_type": "code",
      "metadata": {
        "id": "ZyUN-60O7z6c"
      },
      "source": [
        "zip_path = \"/content/drive/MyDrive/xray_dataset/archive.zip\"\n",
        "\n",
        "!cp \"{zip_path}\" .\n",
        "\n",
        "!unzip -q archive.zip\n",
        "\n",
        "!rm archive.zip"
      ],
      "execution_count": 3,
      "outputs": []
    },
    {
      "cell_type": "code",
      "metadata": {
        "colab": {
          "base_uri": "https://localhost:8080/"
        },
        "id": "t0Rca-5_HxHP",
        "outputId": "30acc6d1-4f30-4d9e-bbdc-745407389136"
      },
      "source": [
        "dataset_folder = os.listdir(\"/content/chest_xray\")\n",
        "\n",
        "print(dataset_folder)\n",
        "#print(np.__version__)\n"
      ],
      "execution_count": 50,
      "outputs": [
        {
          "output_type": "stream",
          "name": "stdout",
          "text": [
            "['val', 'chest_xray', 'train', 'test', '__MACOSX']\n"
          ]
        }
      ]
    },
    {
      "cell_type": "code",
      "metadata": {
        "id": "Ao2q7QOnJHUz"
      },
      "source": [
        "'''\n",
        "Folder paths\n",
        "'''\n",
        "train_folder = \"/content/chest_xray/train\"\n",
        "\n",
        "test_folder = \"/content/chest_xray/test\"\n",
        "\n",
        "validation_folder =\"/content/chest_xray/val\"\n",
        "\n"
      ],
      "execution_count": 51,
      "outputs": []
    },
    {
      "cell_type": "code",
      "metadata": {
        "id": "DvNE7LwwSqtf"
      },
      "source": [
        "import matplotlib.pyplot as plt\n",
        "import seaborn as sns\n",
        "from PIL import Image\n",
        "import random\n"
      ],
      "execution_count": 52,
      "outputs": []
    },
    {
      "cell_type": "code",
      "metadata": {
        "id": "Q1-UOIBVJMC7"
      },
      "source": [
        "\n",
        "'''\n",
        "Test,Train,Val have these folders\n",
        "'''\n",
        "labels = [\"NORMAL\",\"PNEUMONIA\"]\n",
        "\n",
        "img_size = 50\n",
        "\n",
        "def getData(dir):\n",
        "    data = []\n",
        "\n",
        "    for label in labels:\n",
        "\n",
        "        path = os.path.join(dir,label)\n",
        "        class_num = labels.index(label)\n",
        "\n",
        "        for img in os.listdir(path):\n",
        "\n",
        "            try:\n",
        "                img_arr = cv2.imread(os.path.join(path,img),cv2.IMREAD_GRAYSCALE)\n",
        "\n",
        "                new_arr = cv2.resize(img_arr,(img_size,img_size))\n",
        "\n",
        "                data.append([new_arr,class_num])\n",
        "            \n",
        "            except Exception as error:\n",
        "                print(error)\n",
        "    \n",
        "    return np.array(data,dtype=object)\n",
        "\n",
        "\n",
        "train = getData(train_folder)\n",
        "\n",
        "test = getData(test_folder)\n",
        "\n",
        "val = getData(validation_folder)\n"
      ],
      "execution_count": 53,
      "outputs": []
    },
    {
      "cell_type": "code",
      "metadata": {
        "colab": {
          "base_uri": "https://localhost:8080/",
          "height": 337
        },
        "id": "8j9X5NdY7AyW",
        "outputId": "843853cc-7ebd-4675-802f-76b82a6e5e8c"
      },
      "source": [
        "list_data = []\n",
        "for i in train:\n",
        "    if(i[1] == 0):\n",
        "        list_data.append(\"Normal\")\n",
        "    else:\n",
        "        list_data.append(\"Pneumonia\")\n",
        "        \n",
        "sns.countplot(list_data)"
      ],
      "execution_count": 54,
      "outputs": [
        {
          "output_type": "stream",
          "name": "stderr",
          "text": [
            "/usr/local/lib/python3.7/dist-packages/seaborn/_decorators.py:43: FutureWarning: Pass the following variable as a keyword arg: x. From version 0.12, the only valid positional argument will be `data`, and passing other arguments without an explicit keyword will result in an error or misinterpretation.\n",
            "  FutureWarning\n"
          ]
        },
        {
          "output_type": "execute_result",
          "data": {
            "text/plain": [
              "<matplotlib.axes._subplots.AxesSubplot at 0x7f8d5d128c90>"
            ]
          },
          "metadata": {},
          "execution_count": 54
        },
        {
          "output_type": "display_data",
          "data": {
            "image/png": "[encoded data removed]",
            "text/plain": [
              "<Figure size 432x288 with 1 Axes>"
            ]
          },
          "metadata": {
            "needs_background": "light"
          }
        }
      ]
    },
    {
      "cell_type": "code",
      "metadata": {
        "id": "dTS7-jBwJKr2"
      },
      "source": [
        "X_train = []\n",
        "y_train = []\n",
        "\n",
        "X_val = []\n",
        "y_val = []\n",
        "\n",
        "X_test = []\n",
        "y_test = []\n",
        "\n",
        "for feature, label in train:\n",
        "    X_train.append(feature)\n",
        "    y_train.append(label)\n",
        "\n",
        "for feature, label in test:\n",
        "    X_test.append(feature)\n",
        "    y_test.append(label)\n",
        "    \n",
        "for feature, label in val:\n",
        "    X_val.append(feature)\n",
        "    y_val.append(label)"
      ],
      "execution_count": 55,
      "outputs": []
    },
    {
      "cell_type": "code",
      "metadata": {
        "id": "Cg4T0PqmJKpQ"
      },
      "source": [
        "X_train = np.array(X_train) / 255\n",
        "X_val = np.array(X_val) / 255\n",
        "X_test = np.array(X_test) / 255"
      ],
      "execution_count": 56,
      "outputs": []
    },
    {
      "cell_type": "code",
      "metadata": {
        "id": "iBnmsCnVJKmd"
      },
      "source": [
        "\n",
        "\n",
        "X_train = X_train.reshape(-1, img_size, img_size, 1)\n",
        "y_train = np.array(y_train)\n",
        "\n",
        "X_val = X_val.reshape(-1, img_size, img_size, 1)\n",
        "y_val = np.array(y_val)\n",
        "\n",
        "X_test = X_test.reshape(-1, img_size, img_size, 1)\n",
        "y_test = np.array(y_test)\n",
        "\n"
      ],
      "execution_count": 57,
      "outputs": []
    },
    {
      "cell_type": "code",
      "metadata": {
        "id": "l3oTG3EXJKjp"
      },
      "source": [
        "\n",
        "\n",
        "import tensorflow as tf\n",
        "from tensorflow.keras.layers import Flatten, Conv2D, Activation, Dense, Dropout, MaxPooling2D\n",
        "from tensorflow.keras.models import Sequential\n",
        "\n",
        "\n",
        "from sklearn import metrics\n",
        "from sklearn import preprocessing\n",
        "from sklearn.metrics import classification_report\n",
        "from sklearn.metrics import confusion_matrix\n",
        "from sklearn.metrics import plot_confusion_matrix\n"
      ],
      "execution_count": 58,
      "outputs": []
    },
    {
      "cell_type": "code",
      "metadata": {
        "colab": {
          "base_uri": "https://localhost:8080/"
        },
        "id": "xI7qIlaHJKg3",
        "outputId": "85b58fe3-9595-4fcd-f33d-a433e89704c8"
      },
      "source": [
        "model = Sequential()\n",
        "\n",
        "model.add(Conv2D(32, (3, 3), padding=\"same\", input_shape=X_train.shape[1:]))\n",
        "model.add(Activation(\"relu\"))\n",
        "model.add(MaxPooling2D(2, 2))\n",
        "model.add(Dropout(0.2))\n",
        "\n",
        "model.add(Conv2D(64, (3, 3), padding=\"same\"))\n",
        "model.add(Activation(\"relu\"))\n",
        "model.add(MaxPooling2D(2, 2))\n",
        "model.add(Dropout(0.2))\n",
        "\n",
        "model.add(Conv2D(128, (3, 3), padding=\"same\"))\n",
        "model.add(Activation(\"relu\"))\n",
        "model.add(MaxPooling2D(2, 2))\n",
        "model.add(Dropout(0.2))\n",
        "\n",
        "model.add(Flatten())\n",
        "model.add(Dense(128, activation=\"relu\"))\n",
        "\n",
        "model.add(Dense(1))\n",
        "model.add(Activation(\"sigmoid\"))\n",
        "\n",
        "model.compile(loss=\"binary_crossentropy\", optimizer=\"adam\", metrics=[\"accuracy\"])\n",
        "history = model.fit(X_train, y_train, epochs=20, validation_data=(X_val, y_val), shuffle=True)\n",
        "scores = model.evaluate(X_test, y_test)\n",
        "\n",
        "model.summary()\n",
        "model.save(\"cnn.model\")"
      ],
      "execution_count": 59,
      "outputs": [
        {
          "output_type": "stream",
          "name": "stdout",
          "text": [
            "Epoch 1/20\n",
            "163/163 [==============================] - 30s 182ms/step - loss: 0.3115 - accuracy: 0.8691 - val_loss: 1.5058 - val_accuracy: 0.6250\n",
            "Epoch 2/20\n",
            "163/163 [==============================] - 30s 185ms/step - loss: 0.1454 - accuracy: 0.9423 - val_loss: 0.8542 - val_accuracy: 0.5625\n",
            "Epoch 3/20\n",
            "163/163 [==============================] - 30s 182ms/step - loss: 0.1123 - accuracy: 0.9572 - val_loss: 0.3702 - val_accuracy: 0.7500\n",
            "Epoch 4/20\n",
            "163/163 [==============================] - 30s 183ms/step - loss: 0.0981 - accuracy: 0.9651 - val_loss: 0.9132 - val_accuracy: 0.6250\n",
            "Epoch 5/20\n",
            "163/163 [==============================] - 30s 183ms/step - loss: 0.0866 - accuracy: 0.9684 - val_loss: 0.5315 - val_accuracy: 0.6875\n",
            "Epoch 6/20\n",
            "163/163 [==============================] - 30s 184ms/step - loss: 0.0844 - accuracy: 0.9668 - val_loss: 0.3195 - val_accuracy: 0.7500\n",
            "Epoch 7/20\n",
            "163/163 [==============================] - 29s 180ms/step - loss: 0.0758 - accuracy: 0.9720 - val_loss: 1.4252 - val_accuracy: 0.6250\n",
            "Epoch 8/20\n",
            "163/163 [==============================] - 32s 196ms/step - loss: 0.0669 - accuracy: 0.9737 - val_loss: 0.3468 - val_accuracy: 0.8750\n",
            "Epoch 9/20\n",
            "163/163 [==============================] - 30s 181ms/step - loss: 0.0600 - accuracy: 0.9768 - val_loss: 0.1724 - val_accuracy: 0.8750\n",
            "Epoch 10/20\n",
            "163/163 [==============================] - 29s 180ms/step - loss: 0.0519 - accuracy: 0.9795 - val_loss: 0.2600 - val_accuracy: 0.8750\n",
            "Epoch 11/20\n",
            "163/163 [==============================] - 29s 181ms/step - loss: 0.0559 - accuracy: 0.9787 - val_loss: 0.4907 - val_accuracy: 0.7500\n",
            "Epoch 12/20\n",
            "163/163 [==============================] - 31s 191ms/step - loss: 0.0455 - accuracy: 0.9831 - val_loss: 0.4226 - val_accuracy: 0.7500\n",
            "Epoch 13/20\n",
            "163/163 [==============================] - 29s 179ms/step - loss: 0.0391 - accuracy: 0.9864 - val_loss: 0.4749 - val_accuracy: 0.6875\n",
            "Epoch 14/20\n",
            "163/163 [==============================] - 29s 179ms/step - loss: 0.0415 - accuracy: 0.9847 - val_loss: 0.1082 - val_accuracy: 1.0000\n",
            "Epoch 15/20\n",
            "163/163 [==============================] - 29s 180ms/step - loss: 0.0385 - accuracy: 0.9862 - val_loss: 0.5633 - val_accuracy: 0.7500\n",
            "Epoch 16/20\n",
            "163/163 [==============================] - 29s 181ms/step - loss: 0.0316 - accuracy: 0.9893 - val_loss: 0.1070 - val_accuracy: 0.9375\n",
            "Epoch 17/20\n",
            "163/163 [==============================] - 29s 180ms/step - loss: 0.0359 - accuracy: 0.9862 - val_loss: 0.2719 - val_accuracy: 0.8125\n",
            "Epoch 18/20\n",
            "163/163 [==============================] - 29s 180ms/step - loss: 0.0304 - accuracy: 0.9891 - val_loss: 0.4381 - val_accuracy: 0.8125\n",
            "Epoch 19/20\n",
            "163/163 [==============================] - 30s 182ms/step - loss: 0.0262 - accuracy: 0.9887 - val_loss: 0.0547 - val_accuracy: 1.0000\n",
            "Epoch 20/20\n",
            "163/163 [==============================] - 29s 180ms/step - loss: 0.0267 - accuracy: 0.9910 - val_loss: 0.0884 - val_accuracy: 0.9375\n",
            "20/20 [==============================] - 1s 43ms/step - loss: 1.4133 - accuracy: 0.7804\n",
            "Model: \"sequential_2\"\n",
            "_________________________________________________________________\n",
            "Layer (type)                 Output Shape              Param #   \n",
            "=================================================================\n",
            "conv2d_6 (Conv2D)            (None, 50, 50, 32)        320       \n",
            "_________________________________________________________________\n",
            "activation_6 (Activation)    (None, 50, 50, 32)        0         \n",
            "_________________________________________________________________\n",
            "max_pooling2d_6 (MaxPooling2 (None, 25, 25, 32)        0         \n",
            "_________________________________________________________________\n",
            "dropout_6 (Dropout)          (None, 25, 25, 32)        0         \n",
            "_________________________________________________________________\n",
            "conv2d_7 (Conv2D)            (None, 25, 25, 64)        18496     \n",
            "_________________________________________________________________\n",
            "activation_7 (Activation)    (None, 25, 25, 64)        0         \n",
            "_________________________________________________________________\n",
            "max_pooling2d_7 (MaxPooling2 (None, 12, 12, 64)        0         \n",
            "_________________________________________________________________\n",
            "dropout_7 (Dropout)          (None, 12, 12, 64)        0         \n",
            "_________________________________________________________________\n",
            "conv2d_8 (Conv2D)            (None, 12, 12, 128)       73856     \n",
            "_________________________________________________________________\n",
            "activation_8 (Activation)    (None, 12, 12, 128)       0         \n",
            "_________________________________________________________________\n",
            "max_pooling2d_8 (MaxPooling2 (None, 6, 6, 128)         0         \n",
            "_________________________________________________________________\n",
            "dropout_8 (Dropout)          (None, 6, 6, 128)         0         \n",
            "_________________________________________________________________\n",
            "flatten_2 (Flatten)          (None, 4608)              0         \n",
            "_________________________________________________________________\n",
            "dense_4 (Dense)              (None, 128)               589952    \n",
            "_________________________________________________________________\n",
            "dense_5 (Dense)              (None, 1)                 129       \n",
            "_________________________________________________________________\n",
            "activation_9 (Activation)    (None, 1)                 0         \n",
            "=================================================================\n",
            "Total params: 682,753\n",
            "Trainable params: 682,753\n",
            "Non-trainable params: 0\n",
            "_________________________________________________________________\n",
            "INFO:tensorflow:Assets written to: cnn.model/assets\n"
          ]
        }
      ]
    },
    {
      "cell_type": "code",
      "metadata": {
        "colab": {
          "base_uri": "https://localhost:8080/",
          "height": 513
        },
        "id": "RqU5BV0UJKVD",
        "outputId": "fda63493-6ac5-449b-d299-e24933525540"
      },
      "source": [
        "# visualization\n",
        "\n",
        "import matplotlib.pyplot as plt\n",
        "accuracy = history.history['accuracy']\n",
        "val_accuracy = history.history['val_accuracy']\n",
        "loss = history.history['loss']\n",
        "val_loss = history.history['val_loss']\n",
        "epochs = range(len(accuracy))\n",
        "\n",
        "plt.plot(epochs, accuracy, \"b\", label=\"training accuracy\")\n",
        "plt.plot(epochs, val_accuracy, \"r\", label=\"validation accuracy\")\n",
        "plt.legend()\n",
        "plt.show()\n",
        "\n",
        "plt.plot(epochs, loss, \"b\", label=\"training loss\")\n",
        "plt.plot(epochs, val_loss, \"r\", label=\"validation loss\")\n",
        "plt.legend()\n",
        "plt.show()"
      ],
      "execution_count": 61,
      "outputs": [
        {
          "output_type": "display_data",
          "data": {
            "image/png": "[encoded data removed]",
            "text/plain": [
              "<Figure size 432x288 with 1 Axes>"
            ]
          },
          "metadata": {
            "needs_background": "light"
          }
        },
        {
          "output_type": "display_data",
          "data": {
            "image/png": "[encoded data removed]",
            "text/plain": [
              "<Figure size 432x288 with 1 Axes>"
            ]
          },
          "metadata": {
            "needs_background": "light"
          }
        }
      ]
    },
    {
      "cell_type": "code",
      "metadata": {
        "id": "12wn7gSNqyoD"
      },
      "source": [
        "def show_confusion_matrix(model,x,y):\n",
        "  disp = plot_confusion_matrix(model, x, y,\n",
        "                               cmap=plt.cm.Blues,\n",
        "                               normalize= None, values_format = '.2f')\n",
        "  plt.show()"
      ],
      "execution_count": 62,
      "outputs": []
    },
    {
      "cell_type": "code",
      "metadata": {
        "colab": {
          "base_uri": "https://localhost:8080/",
          "height": 279
        },
        "id": "MO1Mb5KZq3Ur",
        "outputId": "53e15d39-2540-4764-94d9-ecf9e00c4174"
      },
      "source": [
        "show_confusion_matrix(model,X_test,y_test)"
      ],
      "execution_count": 99,
      "outputs": [
        {
          "output_type": "display_data",
          "data": {
            "image/png": "[encoded data removed]",
            "text/plain": [
              "<Figure size 432x288 with 2 Axes>"
            ]
          },
          "metadata": {
            "needs_background": "light"
          }
        }
      ]
    },
    {
      "cell_type": "code",
      "metadata": {
        "colab": {
          "base_uri": "https://localhost:8080/"
        },
        "id": "Bv5cgrkSufX4",
        "outputId": "1d82823a-e76f-4def-b470-64704cdd7c37"
      },
      "source": [
        "predictions = model.predict(X_test)\n",
        "acc = metrics.accuracy_score(y_test, predictions)\n",
        "accuracy_values.append(acc)\n",
        "print(classification_report(y_test, predictions))"
      ],
      "execution_count": 100,
      "outputs": [
        {
          "output_type": "stream",
          "name": "stdout",
          "text": [
            "              precision    recall  f1-score   support\n",
            "\n",
            "      NORMAL       0.96      0.90      0.93      1857\n",
            "   PNEUMONIA       0.94      0.97      0.95      2733\n",
            "\n",
            "    accuracy                           0.94      4590\n",
            "   macro avg       0.95      0.94      0.94      4590\n",
            "weighted avg       0.94      0.94      0.94      4590\n",
            "\n"
          ]
        }
      ]
    },
    {
      "cell_type": "code",
      "metadata": {
        "id": "BNSR0nCFJKSL"
      },
      "source": [
        "labels = [\"NORMAL\", \"PNEUMONIA\"]\n",
        "def prepare(filepath):\n",
        "    img_array = cv2.imread(filepath, cv2.IMREAD_GRAYSCALE)\n",
        "    new_array = cv2.resize(img_array, (img_size,img_size))\n",
        "    return new_array.reshape(-1,img_size,img_size, 1)\n",
        "\n",
        "model = tf.keras.models.load_model(\"cnn.model\") # load model"
      ],
      "execution_count": 65,
      "outputs": []
    },
    {
      "cell_type": "code",
      "metadata": {
        "colab": {
          "base_uri": "https://localhost:8080/"
        },
        "id": "3MWaRtlRTXqC",
        "outputId": "038c1b17-d2c5-4a7a-be98-2100e58cdb97"
      },
      "source": [
        "# extra pneumonia photo from google\n",
        "prediction = model.predict([prepare(\"/content/chest_xray/train/NORMAL/IM-0115-0001.jpeg\")])\n",
        "print(labels[int(prediction[0])])"
      ],
      "execution_count": 66,
      "outputs": [
        {
          "output_type": "stream",
          "name": "stdout",
          "text": [
            "NORMAL\n"
          ]
        }
      ]
    },
    {
      "cell_type": "code",
      "metadata": {
        "id": "gEdDHLiVTXnS"
      },
      "source": [
        ""
      ],
      "execution_count": null,
      "outputs": []
    },
    {
      "cell_type": "markdown",
      "metadata": {
        "id": "9iTa0pXzUpSI"
      },
      "source": [
        "#**SVM**"
      ]
    },
    {
      "cell_type": "code",
      "metadata": {
        "id": "AuFIzl5kTXh2"
      },
      "source": [
        "'''\n",
        "Folder paths\n",
        "'''\n",
        "train_folder = \"/content/chest_xray/train\"\n",
        "\n",
        "test_folder = \"/content/chest_xray/test\"\n",
        "\n",
        "validation_folder =\"/content/chest_xray/val\""
      ],
      "execution_count": 67,
      "outputs": []
    },
    {
      "cell_type": "code",
      "metadata": {
        "id": "TSNWUSHcTXfO"
      },
      "source": [
        "import matplotlib.pyplot as plt\n",
        "import seaborn as sns\n",
        "from PIL import Image\n",
        "import random\n"
      ],
      "execution_count": 68,
      "outputs": []
    },
    {
      "cell_type": "code",
      "metadata": {
        "id": "SAn6y7B0TXcV"
      },
      "source": [
        "\n",
        "'''\n",
        "Test,Train,Val have these folders\n",
        "'''\n",
        "labels = [\"NORMAL\",\"PNEUMONIA\"]\n",
        "\n",
        "img_size = 50\n",
        "\n",
        "def getData(dir):\n",
        "    data = []\n",
        "\n",
        "    for label in labels:\n",
        "\n",
        "        path = os.path.join(dir,label)\n",
        "        class_num = labels.index(label)\n",
        "\n",
        "        for img in os.listdir(path):\n",
        "\n",
        "            try:\n",
        "                img_arr = cv2.imread(os.path.join(path,img),cv2.IMREAD_GRAYSCALE)\n",
        "\n",
        "                new_arr = cv2.resize(img_arr,(img_size,img_size))\n",
        "\n",
        "                data.append([new_arr,class_num])\n",
        "            \n",
        "            except Exception as error:\n",
        "                print(error)\n",
        "    \n",
        "    return np.array(data,dtype=object)\n",
        "\n",
        "\n",
        "train = getData(train_folder)\n",
        "\n",
        "test = getData(test_folder)\n",
        "\n",
        "val = getData(validation_folder)\n"
      ],
      "execution_count": 69,
      "outputs": []
    },
    {
      "cell_type": "code",
      "metadata": {
        "id": "dSsWvQd6TXZv",
        "colab": {
          "base_uri": "https://localhost:8080/",
          "height": 337
        },
        "outputId": "7d81a9ad-fb57-46f4-db3a-99b1990133ee"
      },
      "source": [
        "list_data = []\n",
        "for i in train:\n",
        "    if(i[1] == 0):\n",
        "        list_data.append(\"Normal\")\n",
        "    else:\n",
        "        list_data.append(\"Pneumonia\")\n",
        "        \n",
        "sns.countplot(list_data)"
      ],
      "execution_count": 70,
      "outputs": [
        {
          "output_type": "stream",
          "name": "stderr",
          "text": [
            "/usr/local/lib/python3.7/dist-packages/seaborn/_decorators.py:43: FutureWarning: Pass the following variable as a keyword arg: x. From version 0.12, the only valid positional argument will be `data`, and passing other arguments without an explicit keyword will result in an error or misinterpretation.\n",
            "  FutureWarning\n"
          ]
        },
        {
          "output_type": "execute_result",
          "data": {
            "text/plain": [
              "<matplotlib.axes._subplots.AxesSubplot at 0x7f8d5b6144d0>"
            ]
          },
          "metadata": {},
          "execution_count": 70
        },
        {
          "output_type": "display_data",
          "data": {
            "image/png": "[encoded data removed]",
            "text/plain": [
              "<Figure size 432x288 with 1 Axes>"
            ]
          },
          "metadata": {
            "needs_background": "light"
          }
        }
      ]
    },
    {
      "cell_type": "code",
      "metadata": {
        "id": "kMLTt3OxTXW3"
      },
      "source": [
        "X_train = []\n",
        "y_train = []\n",
        "\n",
        "X_val = []\n",
        "y_val = []\n",
        "\n",
        "X_test = []\n",
        "y_test = []\n",
        "\n",
        "for feature, label in train:\n",
        "    X_train.append(feature)\n",
        "    y_train.append(label)\n",
        "\n",
        "for feature, label in test:\n",
        "    X_test.append(feature)\n",
        "    y_test.append(label)\n",
        "    \n",
        "for feature, label in val:\n",
        "    X_val.append(feature)\n",
        "    y_val.append(label)"
      ],
      "execution_count": 71,
      "outputs": []
    },
    {
      "cell_type": "code",
      "metadata": {
        "id": "7X_UpmzSTXT7"
      },
      "source": [
        "X_train = np.array(X_train) / 255\n",
        "X_val = np.array(X_val) / 255\n",
        "X_test = np.array(X_test) / 255"
      ],
      "execution_count": 72,
      "outputs": []
    },
    {
      "cell_type": "code",
      "metadata": {
        "id": "BeSq2LIpTXQ4"
      },
      "source": [
        "\n",
        "\n",
        "X_train = X_train.reshape(-1, img_size, img_size, 1)\n",
        "y_train = np.array(y_train)\n",
        "\n",
        "X_val = X_val.reshape(-1, img_size, img_size, 1)\n",
        "y_val = np.array(y_val)\n",
        "\n",
        "X_test = X_test.reshape(-1, img_size, img_size, 1)\n",
        "y_test = np.array(y_test)"
      ],
      "execution_count": 73,
      "outputs": []
    },
    {
      "cell_type": "code",
      "metadata": {
        "id": "bntywjC9TXOG"
      },
      "source": [
        "\n",
        "\n",
        "import tensorflow as tf\n",
        "from tensorflow.keras.layers import Flatten, Conv2D, Activation, Dense, Dropout, MaxPooling2D\n",
        "from tensorflow.keras.models import Sequential\n",
        "\n",
        "\n",
        "from sklearn import metrics\n",
        "from sklearn import preprocessing\n",
        "from sklearn.metrics import classification_report\n",
        "from sklearn.metrics import confusion_matrix\n",
        "from sklearn.metrics import plot_confusion_matrix\n",
        "\n",
        "\n",
        "from tensorflow.keras.regularizers import l2"
      ],
      "execution_count": 74,
      "outputs": []
    },
    {
      "cell_type": "code",
      "metadata": {
        "colab": {
          "base_uri": "https://localhost:8080/"
        },
        "id": "wylBxURWdQ7l",
        "outputId": "f71be8a4-96ba-45b0-ccdc-a0e16b969ec6"
      },
      "source": [
        "svm_model = Sequential()\n",
        "\n",
        "svm_model.add(Conv2D(32, (3, 3), padding=\"same\", input_shape=X_train.shape[1:]))\n",
        "svm_model.add(Activation(\"relu\"))\n",
        "svm_model.add(MaxPooling2D(2, 2))\n",
        "svm_model.add(Dropout(0.2))\n",
        "\n",
        "svm_model.add(Conv2D(64, (3, 3), padding=\"same\"))\n",
        "svm_model.add(Activation(\"relu\"))\n",
        "svm_model.add(MaxPooling2D(2, 2))\n",
        "svm_model.add(Dropout(0.2))\n",
        "\n",
        "svm_model.add(Conv2D(128, (3, 3), padding=\"same\"))\n",
        "svm_model.add(Activation(\"relu\"))\n",
        "svm_model.add(MaxPooling2D(2, 2))\n",
        "svm_model.add(Dropout(0.2))\n",
        "\n",
        "svm_model.add(Flatten())\n",
        "svm_model.add(Dense(128, activation=\"relu\"))\n",
        "\n",
        "# model.add(Dense(1))\n",
        "# model.add(Activation(\"sigmoid\"))\n",
        "svm_model.add(Dense(1, kernel_regularizer=tf.keras.regularizers.l2(0.001),\n",
        "                activation='linear'))\n",
        "\n",
        "svm_model.compile(loss=\"hinge\", optimizer=\"adam\", metrics=[\"accuracy\"])\n",
        "history = svm_model.fit(X_train, y_train, epochs=20, validation_data=(X_val, y_val), shuffle=True)\n",
        "scores = svm_model.evaluate(X_test, y_test)\n",
        "\n",
        "svm_model.summary()\n",
        "svm_model.save(\"svm.model\")"
      ],
      "execution_count": 75,
      "outputs": [
        {
          "output_type": "stream",
          "name": "stdout",
          "text": [
            "Epoch 1/25\n",
            "163/163 [==============================] - 31s 184ms/step - loss: 0.4178 - accuracy: 0.8190 - val_loss: 0.8014 - val_accuracy: 0.6250\n",
            "Epoch 2/25\n",
            "163/163 [==============================] - 30s 183ms/step - loss: 0.1514 - accuracy: 0.9300 - val_loss: 0.5303 - val_accuracy: 0.8125\n",
            "Epoch 3/25\n",
            "163/163 [==============================] - 30s 185ms/step - loss: 0.1225 - accuracy: 0.9448 - val_loss: 0.6653 - val_accuracy: 0.7500\n",
            "Epoch 4/25\n",
            "163/163 [==============================] - 30s 186ms/step - loss: 0.1045 - accuracy: 0.9540 - val_loss: 0.4233 - val_accuracy: 0.8125\n",
            "Epoch 5/25\n",
            "163/163 [==============================] - 30s 183ms/step - loss: 0.1057 - accuracy: 0.9519 - val_loss: 0.4438 - val_accuracy: 0.9375\n",
            "Epoch 6/25\n",
            "163/163 [==============================] - 30s 185ms/step - loss: 0.0881 - accuracy: 0.9607 - val_loss: 0.4431 - val_accuracy: 0.8750\n",
            "Epoch 7/25\n",
            "163/163 [==============================] - 30s 182ms/step - loss: 0.0742 - accuracy: 0.9676 - val_loss: 0.8562 - val_accuracy: 0.6875\n",
            "Epoch 8/25\n",
            "163/163 [==============================] - 30s 185ms/step - loss: 0.0759 - accuracy: 0.9657 - val_loss: 0.2820 - val_accuracy: 0.9375\n",
            "Epoch 9/25\n",
            "163/163 [==============================] - 30s 182ms/step - loss: 0.0730 - accuracy: 0.9668 - val_loss: 0.2105 - val_accuracy: 0.9375\n",
            "Epoch 10/25\n",
            "163/163 [==============================] - 30s 182ms/step - loss: 0.0644 - accuracy: 0.9711 - val_loss: 0.2358 - val_accuracy: 0.8750\n",
            "Epoch 11/25\n",
            "163/163 [==============================] - 30s 182ms/step - loss: 0.0567 - accuracy: 0.9734 - val_loss: 0.2968 - val_accuracy: 0.9375\n",
            "Epoch 12/25\n",
            "163/163 [==============================] - 30s 182ms/step - loss: 0.0464 - accuracy: 0.9793 - val_loss: 0.1181 - val_accuracy: 1.0000\n",
            "Epoch 13/25\n",
            "163/163 [==============================] - 30s 181ms/step - loss: 0.0496 - accuracy: 0.9778 - val_loss: 0.1008 - val_accuracy: 0.8750\n",
            "Epoch 14/25\n",
            "163/163 [==============================] - 30s 181ms/step - loss: 0.0505 - accuracy: 0.9774 - val_loss: 0.4678 - val_accuracy: 0.9375\n",
            "Epoch 15/25\n",
            "163/163 [==============================] - 30s 182ms/step - loss: 0.0552 - accuracy: 0.9760 - val_loss: 0.1237 - val_accuracy: 1.0000\n",
            "Epoch 16/25\n",
            "163/163 [==============================] - 30s 185ms/step - loss: 0.0484 - accuracy: 0.9787 - val_loss: 1.0992 - val_accuracy: 0.5625\n",
            "Epoch 17/25\n",
            "163/163 [==============================] - 30s 182ms/step - loss: 0.0549 - accuracy: 0.9749 - val_loss: 0.0545 - val_accuracy: 1.0000\n",
            "Epoch 18/25\n",
            "163/163 [==============================] - 29s 180ms/step - loss: 0.0389 - accuracy: 0.9835 - val_loss: 0.1927 - val_accuracy: 0.9375\n",
            "Epoch 19/25\n",
            "163/163 [==============================] - 29s 180ms/step - loss: 0.0347 - accuracy: 0.9843 - val_loss: 0.2924 - val_accuracy: 1.0000\n",
            "Epoch 20/25\n",
            "163/163 [==============================] - 29s 180ms/step - loss: 0.0370 - accuracy: 0.9839 - val_loss: 0.1352 - val_accuracy: 1.0000\n",
            "Epoch 21/25\n",
            "163/163 [==============================] - 29s 180ms/step - loss: 0.0295 - accuracy: 0.9866 - val_loss: 0.0837 - val_accuracy: 1.0000\n",
            "Epoch 22/25\n",
            "163/163 [==============================] - 29s 181ms/step - loss: 0.0296 - accuracy: 0.9864 - val_loss: 0.1612 - val_accuracy: 0.8750\n",
            "Epoch 23/25\n",
            "163/163 [==============================] - 30s 183ms/step - loss: 0.0278 - accuracy: 0.9887 - val_loss: 0.2327 - val_accuracy: 0.9375\n",
            "Epoch 24/25\n",
            "163/163 [==============================] - 29s 180ms/step - loss: 0.0336 - accuracy: 0.9841 - val_loss: 0.0363 - val_accuracy: 1.0000\n",
            "Epoch 25/25\n",
            "163/163 [==============================] - 30s 184ms/step - loss: 0.0252 - accuracy: 0.9891 - val_loss: 0.1141 - val_accuracy: 1.0000\n",
            "20/20 [==============================] - 1s 43ms/step - loss: 1.0635 - accuracy: 0.7949\n",
            "Model: \"sequential_3\"\n",
            "_________________________________________________________________\n",
            "Layer (type)                 Output Shape              Param #   \n",
            "=================================================================\n",
            "conv2d_9 (Conv2D)            (None, 50, 50, 32)        320       \n",
            "_________________________________________________________________\n",
            "activation_10 (Activation)   (None, 50, 50, 32)        0         \n",
            "_________________________________________________________________\n",
            "max_pooling2d_9 (MaxPooling2 (None, 25, 25, 32)        0         \n",
            "_________________________________________________________________\n",
            "dropout_9 (Dropout)          (None, 25, 25, 32)        0         \n",
            "_________________________________________________________________\n",
            "conv2d_10 (Conv2D)           (None, 25, 25, 64)        18496     \n",
            "_________________________________________________________________\n",
            "activation_11 (Activation)   (None, 25, 25, 64)        0         \n",
            "_________________________________________________________________\n",
            "max_pooling2d_10 (MaxPooling (None, 12, 12, 64)        0         \n",
            "_________________________________________________________________\n",
            "dropout_10 (Dropout)         (None, 12, 12, 64)        0         \n",
            "_________________________________________________________________\n",
            "conv2d_11 (Conv2D)           (None, 12, 12, 128)       73856     \n",
            "_________________________________________________________________\n",
            "activation_12 (Activation)   (None, 12, 12, 128)       0         \n",
            "_________________________________________________________________\n",
            "max_pooling2d_11 (MaxPooling (None, 6, 6, 128)         0         \n",
            "_________________________________________________________________\n",
            "dropout_11 (Dropout)         (None, 6, 6, 128)         0         \n",
            "_________________________________________________________________\n",
            "flatten_3 (Flatten)          (None, 4608)              0         \n",
            "_________________________________________________________________\n",
            "dense_6 (Dense)              (None, 128)               589952    \n",
            "_________________________________________________________________\n",
            "dense_7 (Dense)              (None, 1)                 129       \n",
            "=================================================================\n",
            "Total params: 682,753\n",
            "Trainable params: 682,753\n",
            "Non-trainable params: 0\n",
            "_________________________________________________________________\n",
            "INFO:tensorflow:Assets written to: svm.model/assets\n"
          ]
        }
      ]
    },
    {
      "cell_type": "code",
      "metadata": {
        "colab": {
          "base_uri": "https://localhost:8080/",
          "height": 513
        },
        "id": "TL-REUUGdQ4H",
        "outputId": "ff954e4f-eb6e-4c7e-ddf3-c44b78ef4a4f"
      },
      "source": [
        "# visualization\n",
        "\n",
        "import matplotlib.pyplot as plt\n",
        "accuracy = history.history['accuracy']\n",
        "val_accuracy = history.history['val_accuracy']\n",
        "loss = history.history['loss']\n",
        "val_loss = history.history['val_loss']\n",
        "epochs = range(len(accuracy))\n",
        "\n",
        "plt.plot(epochs, accuracy, \"b\", label=\"training accuracy\")\n",
        "plt.plot(epochs, val_accuracy, \"r\", label=\"validation accuracy\")\n",
        "plt.legend()\n",
        "plt.show()\n",
        "\n",
        "plt.plot(epochs, loss, \"b\", label=\"training loss\")\n",
        "plt.plot(epochs, val_loss, \"r\", label=\"validation loss\")\n",
        "plt.legend()\n",
        "plt.show()"
      ],
      "execution_count": 76,
      "outputs": [
        {
          "output_type": "display_data",
          "data": {
            "image/png": "[encoded data removed]",
            "text/plain": [
              "<Figure size 432x288 with 1 Axes>"
            ]
          },
          "metadata": {
            "needs_background": "light"
          }
        },
        {
          "output_type": "display_data",
          "data": {
            "image/png": "[encoded data removed]",
            "text/plain": [
              "<Figure size 432x288 with 1 Axes>"
            ]
          },
          "metadata": {
            "needs_background": "light"
          }
        }
      ]
    },
    {
      "cell_type": "code",
      "metadata": {
        "id": "okqUvRbI71Vp"
      },
      "source": [
        "def show_confusion_matrix(model,x,y):\n",
        "  disp = plot_confusion_matrix(svm_model, x, y,\n",
        "                               cmap=plt.cm.Blues,\n",
        "                               normalize= None, values_format = '.2f')\n",
        "  plt.show()"
      ],
      "execution_count": 102,
      "outputs": []
    },
    {
      "cell_type": "code",
      "metadata": {
        "id": "92vwes0udQ1k"
      },
      "source": [
        "labels = [\"NORMAL\", \"PNEUMONIA\"]\n",
        "def prepare(filepath):\n",
        "    img_array = cv2.imread(filepath, cv2.IMREAD_GRAYSCALE)\n",
        "    new_array = cv2.resize(img_array, (img_size,img_size))\n",
        "    return new_array.reshape(-1 ,img_size,img_size, 1)\n",
        "\n",
        "svm_model = tf.keras.models.load_model(\"svm.model\") # load model"
      ],
      "execution_count": 77,
      "outputs": []
    },
    {
      "cell_type": "code",
      "metadata": {
        "colab": {
          "base_uri": "https://localhost:8080/"
        },
        "id": "maW4u5hOeKV-",
        "outputId": "b5c023ab-2032-4ee5-ab96-c258b55ce0e4"
      },
      "source": [
        "# extra pneumonia photo from google\n",
        "prediction = svm_model.predict([prepare(\"/content/chest_xray/val/NORMAL/NORMAL2-IM-1437-0001.jpeg\")])\n",
        "print(prediction)\n",
        "\n",
        "if prediction < 0:\n",
        "  print(labels[0])\n",
        "else:\n",
        "  print(labels[1])"
      ],
      "execution_count": 84,
      "outputs": [
        {
          "output_type": "stream",
          "name": "stdout",
          "text": [
            "[[-80.3542]]\n",
            "NORMAL\n"
          ]
        }
      ]
    },
    {
      "cell_type": "markdown",
      "metadata": {
        "id": "Io3cuVLzY9kF"
      },
      "source": [
        "#**KNN**"
      ]
    },
    {
      "cell_type": "code",
      "metadata": {
        "id": "j6gCK--gZqgt"
      },
      "source": [
        "from sklearn.neighbors import KNeighborsClassifier\n",
        "from sklearn.model_selection import cross_val_score\n",
        "from sklearn.model_selection import train_test_split\n",
        "from sklearn.metrics import classification_report\n",
        "from sklearn.metrics import confusion_matrix\n",
        "from sklearn.metrics import plot_confusion_matrix\n",
        "from sklearn import metrics\n",
        "from sklearn import preprocessing\n",
        "import os"
      ],
      "execution_count": 85,
      "outputs": []
    },
    {
      "cell_type": "code",
      "metadata": {
        "id": "Ki_c2g6SY8_j"
      },
      "source": [
        "\n",
        "image_size= 32\n",
        "\n",
        "dir_base='/content/chest_xray'\n",
        "test_dir = '{}/{}'.format(dir_base, 'test')\n",
        "train_dir = '{}/{}'.format(dir_base, 'train')\n",
        "val_dir = '{}/{}'.format(dir_base, 'val')\n",
        "\n",
        "test_dir_normal_cases = '{}/{}/{}'.format(dir_base, 'test','NORMAL')\n",
        "train_dir_normal_cases = '{}/{}/{}'.format(dir_base, 'train','NORMAL')\n",
        "val_dir_normal_cases = '{}/{}/{}'.format(dir_base, 'val','NORMAL')\n",
        "\n",
        "test_dir_pneumonia_cases = '{}/{}/{}'.format(dir_base, 'test','PNEUMONIA')\n",
        "train_dir_pneumonia_cases = '{}/{}/{}'.format(dir_base, 'train','PNEUMONIA')\n",
        "val_dir_pneumonia_cases = '{}/{}/{}'.format(dir_base, 'val','PNEUMONIA')\n",
        "\n",
        "\n",
        "\n"
      ],
      "execution_count": 86,
      "outputs": []
    },
    {
      "cell_type": "code",
      "metadata": {
        "id": "XY-Gxad5a2ue"
      },
      "source": [
        "def get_data(path,label,data_type,process_flipped):\n",
        "  result = []\n",
        "  items = os.listdir(path)\n",
        "  for i in items:\n",
        "    img_path = '{}/{}/{}/{}'.format(dir_base,data_type,label,i)\n",
        "    result.append((get_image_arr(img_path),label))\n",
        "    if process_flipped == True:\n",
        "      result.append((get_flipped_image_arr(img_path),label))\n",
        "  return pd.DataFrame(result, columns=['image', 'label'],index=None)"
      ],
      "execution_count": 87,
      "outputs": []
    },
    {
      "cell_type": "code",
      "metadata": {
        "id": "FU19FB6ha2ro"
      },
      "source": [
        "def get_flipped_image_arr(path):\n",
        "  original = cv2.imread(path) \n",
        "  img = cv2.flip(original, 1)\n",
        "  img = cv2.resize(img, (image_size, image_size),interpolation = cv2.INTER_AREA).reshape(1,-1)\n",
        "  return img"
      ],
      "execution_count": 88,
      "outputs": []
    },
    {
      "cell_type": "code",
      "metadata": {
        "id": "LxRaHAklZHWJ"
      },
      "source": [
        "def get_image_arr(path):\n",
        "  img = cv2.imread(path) \n",
        "  img = cv2.resize(img, (image_size, image_size),interpolation = cv2.INTER_AREA).reshape(1,-1)\n",
        "  return img"
      ],
      "execution_count": 89,
      "outputs": []
    },
    {
      "cell_type": "code",
      "metadata": {
        "id": "yZGJchplZPb5"
      },
      "source": [
        "def show_plot(k_values,accuracy_values):\n",
        "  fig = plt.figure()\n",
        "  fig.subplots_adjust(top=0.8)\n",
        "  ax1 = fig.add_subplot()\n",
        "  ax1.set_ylabel('Accuracy')\n",
        "  ax1.set_xlabel('K value')\n",
        "  plt.plot(k_values,accuracy_values,label='Accuracy for k params')\n",
        "  plt.scatter(k_values,accuracy_values,c=k_values,alpha=1)\n",
        "  plt.legend()\n",
        "  plt.show()"
      ],
      "execution_count": 90,
      "outputs": []
    },
    {
      "cell_type": "code",
      "metadata": {
        "id": "mNTKunZXdFbX"
      },
      "source": [
        "\n",
        "\n",
        "def show_confusion_matrix(model,x,y):\n",
        "  disp = plot_confusion_matrix(model, x, y,\n",
        "                               cmap=plt.cm.Blues,\n",
        "                               normalize= None, values_format = '.2f')\n",
        "  plt.show()\n",
        "\n"
      ],
      "execution_count": 91,
      "outputs": []
    },
    {
      "cell_type": "code",
      "metadata": {
        "id": "CGKxLjAZZW5T"
      },
      "source": [
        "data_normal = get_data(train_dir_normal_cases,'NORMAL','train',True)\n",
        "data_pneumonia = get_data(train_dir_pneumonia_cases,'PNEUMONIA','train',False)\n"
      ],
      "execution_count": 92,
      "outputs": []
    },
    {
      "cell_type": "code",
      "metadata": {
        "id": "mZe3-m2SZ1KL"
      },
      "source": [
        "data = pd.concat([data_normal,data_pneumonia])\n",
        "images = data.image\n",
        "y = data.label\n",
        "\n",
        "X = []\n",
        "for i in images.values:\n",
        "    X.append(i[0])\n",
        "X = np.array(X)"
      ],
      "execution_count": 93,
      "outputs": []
    },
    {
      "cell_type": "code",
      "metadata": {
        "colab": {
          "base_uri": "https://localhost:8080/"
        },
        "id": "cVveoRV-bZ0w",
        "outputId": "697805d1-32a1-45c3-d9d4-3f1aa19de59e"
      },
      "source": [
        "\n",
        "\n",
        "X_train, X_test, y_train, y_test = train_test_split(X, y,\n",
        "                                                    test_size=0.70,\n",
        "                                                    random_state=30)\n",
        "print('X train shape:',X_train.shape)\n",
        "print('Y train shape:',y_train.shape)\n",
        "\n",
        "print('X train shape:',X_test.shape)\n",
        "print('Y train shape:',y_test.shape)\n"
      ],
      "execution_count": 94,
      "outputs": [
        {
          "output_type": "stream",
          "name": "stdout",
          "text": [
            "X train shape: (1967, 3072)\n",
            "Y train shape: (1967,)\n",
            "X train shape: (4590, 3072)\n",
            "Y train shape: (4590,)\n"
          ]
        }
      ]
    },
    {
      "cell_type": "code",
      "metadata": {
        "id": "K-L053wEbZx3",
        "colab": {
          "base_uri": "https://localhost:8080/",
          "height": 1000
        },
        "outputId": "87fd8073-efe5-4ac2-8927-548a1b7d85ca"
      },
      "source": [
        "k_values = [5,10,20]\n",
        "accuracy_values = []\n",
        "for k in k_values:\n",
        "    model = KNeighborsClassifier(n_neighbors=k)\n",
        "    model.fit(X_train,y_train)\n",
        "    predictions = model.predict(X_test)\n",
        "    acc = metrics.accuracy_score(y_test, predictions)\n",
        "    accuracy_values.append(acc)\n",
        "    print('Accuracy for k={}:'.format(str(k)),acc)\n",
        "    print('\\n')\n",
        "    print(classification_report(y_test, predictions))\n",
        "    print('=========================================================')\n",
        "    print('\\n')\n",
        "show_plot(k_values,accuracy_values)\n"
      ],
      "execution_count": 95,
      "outputs": [
        {
          "output_type": "stream",
          "name": "stdout",
          "text": [
            "Accuracy for k=5: 0.9424836601307189\n",
            "\n",
            "\n",
            "              precision    recall  f1-score   support\n",
            "\n",
            "      NORMAL       0.95      0.90      0.93      1857\n",
            "   PNEUMONIA       0.94      0.97      0.95      2733\n",
            "\n",
            "    accuracy                           0.94      4590\n",
            "   macro avg       0.94      0.94      0.94      4590\n",
            "weighted avg       0.94      0.94      0.94      4590\n",
            "\n",
            "=========================================================\n",
            "\n",
            "\n",
            "Accuracy for k=10: 0.9468409586056645\n",
            "\n",
            "\n",
            "              precision    recall  f1-score   support\n",
            "\n",
            "      NORMAL       0.95      0.92      0.93      1857\n",
            "   PNEUMONIA       0.95      0.97      0.96      2733\n",
            "\n",
            "    accuracy                           0.95      4590\n",
            "   macro avg       0.95      0.94      0.94      4590\n",
            "weighted avg       0.95      0.95      0.95      4590\n",
            "\n",
            "=========================================================\n",
            "\n",
            "\n",
            "Accuracy for k=20: 0.9440087145969499\n",
            "\n",
            "\n",
            "              precision    recall  f1-score   support\n",
            "\n",
            "      NORMAL       0.96      0.90      0.93      1857\n",
            "   PNEUMONIA       0.94      0.97      0.95      2733\n",
            "\n",
            "    accuracy                           0.94      4590\n",
            "   macro avg       0.95      0.94      0.94      4590\n",
            "weighted avg       0.94      0.94      0.94      4590\n",
            "\n",
            "=========================================================\n",
            "\n",
            "\n"
          ]
        },
        {
          "output_type": "display_data",
          "data": {
            "image/png": "[encoded data removed]",
            "text/plain": [
              "<Figure size 432x288 with 1 Axes>"
            ]
          },
          "metadata": {
            "needs_background": "light"
          }
        }
      ]
    },
    {
      "cell_type": "code",
      "metadata": {
        "id": "Rrh7DtMscYpg",
        "colab": {
          "base_uri": "https://localhost:8080/"
        },
        "outputId": "b3bed4cd-8918-4792-9efb-344a9151330f"
      },
      "source": [
        "knn_model = KNeighborsClassifier(n_neighbors=10)\n",
        "knn_model.fit(X,y)"
      ],
      "execution_count": 96,
      "outputs": [
        {
          "output_type": "execute_result",
          "data": {
            "text/plain": [
              "KNeighborsClassifier(algorithm='auto', leaf_size=30, metric='minkowski',\n",
              "                     metric_params=None, n_jobs=None, n_neighbors=10, p=2,\n",
              "                     weights='uniform')"
            ]
          },
          "metadata": {},
          "execution_count": 96
        }
      ]
    },
    {
      "cell_type": "code",
      "metadata": {
        "id": "qfLxtSFgcYmx"
      },
      "source": [
        "#Load test data\n",
        "test_data_normal = get_data(test_dir_normal_cases,'NORMAL','test',False)\n",
        "test_data_pneumonia = get_data(test_dir_pneumonia_cases,'PNEUMONIA','test',False)\n",
        "\n",
        "test_data_total = pd.concat([test_data_normal,test_data_pneumonia])\n",
        "\n",
        "y_test_data = test_data_total.label\n",
        "\n",
        "X_test_data = []\n",
        "for i in test_data_total.image.values:\n",
        "    X_test_data.append(i[0])\n",
        "    \n",
        "X_test_data = np.array(X_test_data)"
      ],
      "execution_count": 128,
      "outputs": []
    },
    {
      "cell_type": "code",
      "metadata": {
        "id": "DT_TB4gscYj2",
        "colab": {
          "base_uri": "https://localhost:8080/"
        },
        "outputId": "55fdc51c-3ea7-4478-a703-14aeb46f2fa0"
      },
      "source": [
        "\n",
        "\n",
        "predictions_test = knn_model.predict(X_test_data)\n",
        "acc_test = metrics.accuracy_score(y_test_data, predictions_test)\n",
        "print('Accuracy for test',acc_test)\n",
        "print(classification_report(y_test_data, predictions_test))\n",
        "#show_confusion_matrix(knn_model,X_test_data,y_test_data)\n",
        "\n"
      ],
      "execution_count": 130,
      "outputs": [
        {
          "output_type": "stream",
          "name": "stdout",
          "text": [
            "Accuracy for test 0.7980769230769231\n",
            "              precision    recall  f1-score   support\n",
            "\n",
            "      NORMAL       0.94      0.49      0.65       234\n",
            "   PNEUMONIA       0.76      0.98      0.86       390\n",
            "\n",
            "    accuracy                           0.80       624\n",
            "   macro avg       0.85      0.74      0.75       624\n",
            "weighted avg       0.83      0.80      0.78       624\n",
            "\n"
          ]
        }
      ]
    },
    {
      "cell_type": "code",
      "metadata": {
        "colab": {
          "base_uri": "https://localhost:8080/"
        },
        "id": "EKsPZyA8ACCX",
        "outputId": "7bb191dc-68f4-422a-ebe0-a0413e9d2456"
      },
      "source": [
        "print(predictions_test[:5])"
      ],
      "execution_count": 125,
      "outputs": [
        {
          "output_type": "stream",
          "name": "stdout",
          "text": [
            "['PNEUMONIA' 'PNEUMONIA' 'PNEUMONIA' 'NORMAL' 'NORMAL']\n"
          ]
        }
      ]
    },
    {
      "cell_type": "code",
      "metadata": {
        "id": "Mu94ZkWGA__6"
      },
      "source": [
        ""
      ],
      "execution_count": null,
      "outputs": []
    },
    {
      "cell_type": "code",
      "metadata": {
        "id": "HprhXeXYBLju"
      },
      "source": [
        ""
      ],
      "execution_count": null,
      "outputs": []
    }
  ]
}