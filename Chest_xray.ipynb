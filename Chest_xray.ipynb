{
  "nbformat": 4,
  "nbformat_minor": 0,
  "metadata": {
    "accelerator": "TPU",
    "colab": {
      "name": "Chest_xray.ipynb",
      "provenance": [],
      "collapsed_sections": [],
      "include_colab_link": true
    },
    "kernelspec": {
      "display_name": "Python 3",
      "name": "python3"
    },
    "language_info": {
      "name": "python"
    }
  },
  "cells": [
    {
      "cell_type": "markdown",
      "metadata": {
        "id": "view-in-github",
        "colab_type": "text"
      },
      "source": [
        "<a href=\"https://colab.research.google.com/github/Shrenik811rp/Chest-xray-project/blob/master/Chest_xray.ipynb\" target=\"_parent\"><img src=\"https://colab.research.google.com/assets/colab-badge.svg\" alt=\"Open In Colab\"/></a>"
      ]
    },
    {
      "cell_type": "markdown",
      "metadata": {
        "id": "EnuFp9R3vvAV"
      },
      "source": [
        "#**CNN**"
      ]
    },
    {
      "cell_type": "code",
      "metadata": {
        "id": "z_IFkHJtGQBq"
      },
      "source": [
        "\n",
        "import numpy as np # linear algebra\n",
        "import pandas as pd # data processing, CSV file I/O (e.g. pd.read_csv)\n",
        "import cv2 # import cv2"
      ],
      "execution_count": 62,
      "outputs": []
    },
    {
      "cell_type": "code",
      "metadata": {
        "colab": {
          "base_uri": "https://localhost:8080/"
        },
        "id": "Pk3X8fUMMRn_",
        "outputId": "470b7a9e-ca96-420b-e969-874f2b67548b"
      },
      "source": [
        "from google.colab import drive\n",
        "drive.mount('/content/drive')"
      ],
      "execution_count": 2,
      "outputs": [
        {
          "output_type": "stream",
          "name": "stdout",
          "text": [
            "Mounted at /content/drive\n"
          ]
        }
      ]
    },
    {
      "cell_type": "code",
      "metadata": {
        "id": "ZyUN-60O7z6c"
      },
      "source": [
        "zip_path = \"/content/drive/MyDrive/xray_dataset/archive.zip\"\n",
        "\n",
        "!cp \"{zip_path}\" .\n",
        "\n",
        "!unzip -q archive.zip\n",
        "\n",
        "!rm archive.zip"
      ],
      "execution_count": 3,
      "outputs": []
    },
    {
      "cell_type": "code",
      "metadata": {
        "colab": {
          "base_uri": "https://localhost:8080/"
        },
        "id": "t0Rca-5_HxHP",
        "outputId": "a1b2f54b-63e2-4af3-c71c-c193501faace"
      },
      "source": [
        "dataset_folder = os.listdir(\"/content/chest_xray\")\n",
        "\n",
        "print(dataset_folder)\n",
        "#print(np.__version__)\n"
      ],
      "execution_count": 63,
      "outputs": [
        {
          "output_type": "stream",
          "name": "stdout",
          "text": [
            "['val', 'train', 'test', '__MACOSX', 'chest_xray']\n"
          ]
        }
      ]
    },
    {
      "cell_type": "code",
      "metadata": {
        "id": "Ao2q7QOnJHUz"
      },
      "source": [
        "'''\n",
        "Folder paths\n",
        "'''\n",
        "train_folder = \"/content/chest_xray/train\"\n",
        "\n",
        "test_folder = \"/content/chest_xray/test\"\n",
        "\n",
        "validation_folder =\"/content/chest_xray/val\"\n",
        "\n"
      ],
      "execution_count": 5,
      "outputs": []
    },
    {
      "cell_type": "code",
      "metadata": {
        "id": "DvNE7LwwSqtf"
      },
      "source": [
        "import matplotlib.pyplot as plt\n",
        "import seaborn as sns\n",
        "from PIL import Image\n",
        "import random\n"
      ],
      "execution_count": 64,
      "outputs": []
    },
    {
      "cell_type": "code",
      "metadata": {
        "id": "Q1-UOIBVJMC7"
      },
      "source": [
        "\n",
        "'''\n",
        "Test,Train,Val have these folders\n",
        "'''\n",
        "labels = [\"NORMAL\",\"PNEUMONIA\"]\n",
        "\n",
        "img_size = 50\n",
        "\n",
        "def getData(dir):\n",
        "    data = []\n",
        "\n",
        "    for label in labels:\n",
        "\n",
        "        path = os.path.join(dir,label)\n",
        "        class_num = labels.index(label)\n",
        "\n",
        "        for img in os.listdir(path):\n",
        "\n",
        "            try:\n",
        "                img_arr = cv2.imread(os.path.join(path,img),cv2.IMREAD_GRAYSCALE)\n",
        "\n",
        "                new_arr = cv2.resize(img_arr,(img_size,img_size))\n",
        "\n",
        "                data.append([new_arr,class_num])\n",
        "            \n",
        "            except Exception as error:\n",
        "                print(error)\n",
        "    \n",
        "    return np.array(data,dtype=object)\n",
        "\n",
        "\n",
        "train = getData(train_folder)\n",
        "\n",
        "test = getData(test_folder)\n",
        "\n",
        "val = getData(validation_folder)\n"
      ],
      "execution_count": 65,
      "outputs": []
    },
    {
      "cell_type": "code",
      "metadata": {
        "colab": {
          "base_uri": "https://localhost:8080/",
          "height": 338
        },
        "id": "8j9X5NdY7AyW",
        "outputId": "438fb020-cb55-4b38-adc3-c5da29f7005a"
      },
      "source": [
        "list_data = []\n",
        "for i in train:\n",
        "    if(i[1] == 0):\n",
        "        list_data.append(\"Normal\")\n",
        "    else:\n",
        "        list_data.append(\"Pneumonia\")\n",
        "        \n",
        "sns.countplot(list_data)"
      ],
      "execution_count": 66,
      "outputs": [
        {
          "output_type": "stream",
          "name": "stderr",
          "text": [
            "/usr/local/lib/python3.7/dist-packages/seaborn/_decorators.py:43: FutureWarning: Pass the following variable as a keyword arg: x. From version 0.12, the only valid positional argument will be `data`, and passing other arguments without an explicit keyword will result in an error or misinterpretation.\n",
            "  FutureWarning\n"
          ]
        },
        {
          "output_type": "execute_result",
          "data": {
            "text/plain": [
              "<matplotlib.axes._subplots.AxesSubplot at 0x7f6cb25a2050>"
            ]
          },
          "metadata": {},
          "execution_count": 66
        },
        {
          "output_type": "display_data",
          "data": {
            "image/png": "[encoded data removed]",
            "text/plain": [
              "<Figure size 432x288 with 1 Axes>"
            ]
          },
          "metadata": {
            "needs_background": "light"
          }
        }
      ]
    },
    {
      "cell_type": "code",
      "metadata": {
        "id": "dTS7-jBwJKr2"
      },
      "source": [
        "X_train = []\n",
        "y_train = []\n",
        "\n",
        "X_val = []\n",
        "y_val = []\n",
        "\n",
        "X_test = []\n",
        "y_test = []\n",
        "\n",
        "for feature, label in train:\n",
        "    X_train.append(feature)\n",
        "    y_train.append(label)\n",
        "\n",
        "for feature, label in test:\n",
        "    X_test.append(feature)\n",
        "    y_test.append(label)\n",
        "    \n",
        "for feature, label in val:\n",
        "    X_val.append(feature)\n",
        "    y_val.append(label)"
      ],
      "execution_count": 67,
      "outputs": []
    },
    {
      "cell_type": "code",
      "metadata": {
        "id": "Cg4T0PqmJKpQ"
      },
      "source": [
        "X_train = np.array(X_train) / 255\n",
        "X_val = np.array(X_val) / 255\n",
        "X_test = np.array(X_test) / 255"
      ],
      "execution_count": 68,
      "outputs": []
    },
    {
      "cell_type": "code",
      "metadata": {
        "id": "iBnmsCnVJKmd"
      },
      "source": [
        "\n",
        "\n",
        "X_train = X_train.reshape(-1, img_size, img_size, 1)\n",
        "y_train = np.array(y_train)\n",
        "\n",
        "X_val = X_val.reshape(-1, img_size, img_size, 1)\n",
        "y_val = np.array(y_val)\n",
        "\n",
        "X_test = X_test.reshape(-1, img_size, img_size, 1)\n",
        "y_test = np.array(y_test)\n",
        "\n"
      ],
      "execution_count": 70,
      "outputs": []
    },
    {
      "cell_type": "code",
      "metadata": {
        "id": "l3oTG3EXJKjp"
      },
      "source": [
        "\n",
        "\n",
        "import tensorflow as tf\n",
        "from tensorflow.keras.layers import Flatten, Conv2D, Activation, Dense, Dropout, MaxPooling2D\n",
        "from tensorflow.keras.models import Sequential\n",
        "\n"
      ],
      "execution_count": 71,
      "outputs": []
    },
    {
      "cell_type": "code",
      "metadata": {
        "id": "xI7qIlaHJKg3",
        "colab": {
          "base_uri": "https://localhost:8080/"
        },
        "outputId": "7f311642-759e-4171-b8fe-0229285f7b56"
      },
      "source": [
        "model = Sequential()\n",
        "\n",
        "model.add(Conv2D(32, (3, 3), padding=\"same\", input_shape=X_train.shape[1:]))\n",
        "model.add(Activation(\"relu\"))\n",
        "model.add(MaxPooling2D(2, 2))\n",
        "model.add(Dropout(0.2))\n",
        "\n",
        "model.add(Conv2D(64, (3, 3), padding=\"same\"))\n",
        "model.add(Activation(\"relu\"))\n",
        "model.add(MaxPooling2D(2, 2))\n",
        "model.add(Dropout(0.2))\n",
        "\n",
        "model.add(Conv2D(128, (3, 3), padding=\"same\"))\n",
        "model.add(Activation(\"relu\"))\n",
        "model.add(MaxPooling2D(2, 2))\n",
        "model.add(Dropout(0.2))\n",
        "\n",
        "model.add(Flatten())\n",
        "model.add(Dense(128, activation=\"relu\"))\n",
        "\n",
        "model.add(Dense(1))\n",
        "model.add(Activation(\"sigmoid\"))\n",
        "\n",
        "model.compile(loss=\"binary_crossentropy\", optimizer=\"adam\", metrics=[\"accuracy\"])\n",
        "history = model.fit(X_train, y_train, epochs=5, validation_data=(X_val, y_val), shuffle=True)\n",
        "scores = model.evaluate(X_test, y_test)\n",
        "\n",
        "model.summary()\n",
        "model.save(\"cnn.model\")"
      ],
      "execution_count": 73,
      "outputs": [
        {
          "output_type": "stream",
          "name": "stdout",
          "text": [
            "Epoch 1/5\n",
            "163/163 [==============================] - 30s 183ms/step - loss: 0.3671 - accuracy: 0.8296 - val_loss: 1.0132 - val_accuracy: 0.5625\n",
            "Epoch 2/5\n",
            "163/163 [==============================] - 30s 182ms/step - loss: 0.1489 - accuracy: 0.9406 - val_loss: 0.9452 - val_accuracy: 0.6250\n",
            "Epoch 3/5\n",
            "163/163 [==============================] - 30s 182ms/step - loss: 0.1161 - accuracy: 0.9574 - val_loss: 0.5556 - val_accuracy: 0.7500\n",
            "Epoch 4/5\n",
            "163/163 [==============================] - 30s 181ms/step - loss: 0.1126 - accuracy: 0.9540 - val_loss: 0.7523 - val_accuracy: 0.6250\n",
            "Epoch 5/5\n",
            "163/163 [==============================] - 30s 185ms/step - loss: 0.0920 - accuracy: 0.9664 - val_loss: 0.8272 - val_accuracy: 0.6250\n",
            "20/20 [==============================] - 1s 41ms/step - loss: 0.9875 - accuracy: 0.7067\n",
            "Model: \"sequential_4\"\n",
            "_________________________________________________________________\n",
            "Layer (type)                 Output Shape              Param #   \n",
            "=================================================================\n",
            "conv2d_17 (Conv2D)           (None, 50, 50, 32)        320       \n",
            "_________________________________________________________________\n",
            "activation_8 (Activation)    (None, 50, 50, 32)        0         \n",
            "_________________________________________________________________\n",
            "max_pooling2d_12 (MaxPooling (None, 25, 25, 32)        0         \n",
            "_________________________________________________________________\n",
            "dropout_8 (Dropout)          (None, 25, 25, 32)        0         \n",
            "_________________________________________________________________\n",
            "conv2d_18 (Conv2D)           (None, 25, 25, 64)        18496     \n",
            "_________________________________________________________________\n",
            "activation_9 (Activation)    (None, 25, 25, 64)        0         \n",
            "_________________________________________________________________\n",
            "max_pooling2d_13 (MaxPooling (None, 12, 12, 64)        0         \n",
            "_________________________________________________________________\n",
            "dropout_9 (Dropout)          (None, 12, 12, 64)        0         \n",
            "_________________________________________________________________\n",
            "conv2d_19 (Conv2D)           (None, 12, 12, 128)       73856     \n",
            "_________________________________________________________________\n",
            "activation_10 (Activation)   (None, 12, 12, 128)       0         \n",
            "_________________________________________________________________\n",
            "max_pooling2d_14 (MaxPooling (None, 6, 6, 128)         0         \n",
            "_________________________________________________________________\n",
            "dropout_10 (Dropout)         (None, 6, 6, 128)         0         \n",
            "_________________________________________________________________\n",
            "flatten_4 (Flatten)          (None, 4608)              0         \n",
            "_________________________________________________________________\n",
            "dense_8 (Dense)              (None, 128)               589952    \n",
            "_________________________________________________________________\n",
            "dense_9 (Dense)              (None, 1)                 129       \n",
            "_________________________________________________________________\n",
            "activation_11 (Activation)   (None, 1)                 0         \n",
            "=================================================================\n",
            "Total params: 682,753\n",
            "Trainable params: 682,753\n",
            "Non-trainable params: 0\n",
            "_________________________________________________________________\n",
            "INFO:tensorflow:Assets written to: cnn.model/assets\n"
          ]
        }
      ]
    },
    {
      "cell_type": "code",
      "metadata": {
        "id": "RqU5BV0UJKVD",
        "colab": {
          "base_uri": "https://localhost:8080/",
          "height": 513
        },
        "outputId": "baa2efd9-d378-4055-f696-af565dd140c2"
      },
      "source": [
        "# visualization\n",
        "\n",
        "import matplotlib.pyplot as plt\n",
        "accuracy = history.history['accuracy']\n",
        "val_accuracy = history.history['val_accuracy']\n",
        "loss = history.history['loss']\n",
        "val_loss = history.history['val_loss']\n",
        "epochs = range(len(accuracy))\n",
        "\n",
        "plt.plot(epochs, accuracy, \"b\", label=\"trainning accuracy\")\n",
        "plt.plot(epochs, val_accuracy, \"r\", label=\"validation accuracy\")\n",
        "plt.legend()\n",
        "plt.show()\n",
        "\n",
        "plt.plot(epochs, loss, \"b\", label=\"trainning loss\")\n",
        "plt.plot(epochs, val_loss, \"r\", label=\"validation loss\")\n",
        "plt.legend()\n",
        "plt.show()"
      ],
      "execution_count": 74,
      "outputs": [
        {
          "output_type": "display_data",
          "data": {
            "image/png": "[encoded data removed]",
            "text/plain": [
              "<Figure size 432x288 with 1 Axes>"
            ]
          },
          "metadata": {
            "needs_background": "light"
          }
        },
        {
          "output_type": "display_data",
          "data": {
            "image/png": "[encoded data removed]",
            "text/plain": [
              "<Figure size 432x288 with 1 Axes>"
            ]
          },
          "metadata": {
            "needs_background": "light"
          }
        }
      ]
    },
    {
      "cell_type": "code",
      "metadata": {
        "id": "12wn7gSNqyoD"
      },
      "source": [
        "def show_confusion_matrix(model,x,y):\n",
        "  disp = plot_confusion_matrix(model, x, y,\n",
        "                               cmap=plt.cm.Blues,\n",
        "                               normalize= None, values_format = '.2f')\n",
        "  plt.show()"
      ],
      "execution_count": 142,
      "outputs": []
    },
    {
      "cell_type": "code",
      "metadata": {
        "colab": {
          "base_uri": "https://localhost:8080/",
          "height": 279
        },
        "id": "MO1Mb5KZq3Ur",
        "outputId": "085eb372-8247-44c0-c17b-a425f9c22412"
      },
      "source": [
        "show_confusion_matrix(model,X_test,y_test)"
      ],
      "execution_count": 143,
      "outputs": [
        {
          "output_type": "display_data",
          "data": {
            "image/png": "[encoded data removed]",
            "text/plain": [
              "<Figure size 432x288 with 2 Axes>"
            ]
          },
          "metadata": {
            "needs_background": "light"
          }
        }
      ]
    },
    {
      "cell_type": "code",
      "metadata": {
        "colab": {
          "base_uri": "https://localhost:8080/"
        },
        "id": "Bv5cgrkSufX4",
        "outputId": "ae5970cf-44fd-4aa7-8cd6-520038621aff"
      },
      "source": [
        "predictions = model.predict(X_test)\n",
        "acc = metrics.accuracy_score(y_test, predictions)\n",
        "accuracy_values.append(acc)\n",
        "print(classification_report(y_test, predictions))"
      ],
      "execution_count": 146,
      "outputs": [
        {
          "output_type": "stream",
          "name": "stdout",
          "text": [
            "              precision    recall  f1-score   support\n",
            "\n",
            "      NORMAL       0.95      0.90      0.92      1857\n",
            "   PNEUMONIA       0.93      0.97      0.95      2733\n",
            "\n",
            "    accuracy                           0.94      4590\n",
            "   macro avg       0.94      0.93      0.94      4590\n",
            "weighted avg       0.94      0.94      0.94      4590\n",
            "\n"
          ]
        }
      ]
    },
    {
      "cell_type": "code",
      "metadata": {
        "id": "BNSR0nCFJKSL"
      },
      "source": [
        "labels = [\"NORMAL\", \"PNEUMONIA\"]\n",
        "def prepare(filepath):\n",
        "    img_array = cv2.imread(filepath, cv2.IMREAD_GRAYSCALE)\n",
        "    new_array = cv2.resize(img_array, (img_size,img_size))\n",
        "    return new_array.reshape(-1,img_size,img_size, 1)\n",
        "\n",
        "model = tf.keras.models.load_model(\"cnn.model\") # load model"
      ],
      "execution_count": 78,
      "outputs": []
    },
    {
      "cell_type": "code",
      "metadata": {
        "colab": {
          "base_uri": "https://localhost:8080/"
        },
        "id": "3MWaRtlRTXqC",
        "outputId": "9bfda8a5-464f-4538-97bb-5ef9bd9df40f"
      },
      "source": [
        "# extra pneumonia photo from google\n",
        "prediction = model.predict([prepare(\"/content/chest_xray/train/NORMAL/IM-0115-0001.jpeg\")])\n",
        "print(labels[int(prediction[0])])"
      ],
      "execution_count": 79,
      "outputs": [
        {
          "output_type": "stream",
          "name": "stdout",
          "text": [
            "NORMAL\n"
          ]
        }
      ]
    },
    {
      "cell_type": "code",
      "metadata": {
        "id": "gEdDHLiVTXnS"
      },
      "source": [
        ""
      ],
      "execution_count": null,
      "outputs": []
    },
    {
      "cell_type": "markdown",
      "metadata": {
        "id": "9iTa0pXzUpSI"
      },
      "source": [
        "#**SVM**"
      ]
    },
    {
      "cell_type": "code",
      "metadata": {
        "id": "AuFIzl5kTXh2"
      },
      "source": [
        ""
      ],
      "execution_count": null,
      "outputs": []
    },
    {
      "cell_type": "code",
      "metadata": {
        "id": "TSNWUSHcTXfO"
      },
      "source": [
        ""
      ],
      "execution_count": null,
      "outputs": []
    },
    {
      "cell_type": "code",
      "metadata": {
        "id": "SAn6y7B0TXcV"
      },
      "source": [
        ""
      ],
      "execution_count": null,
      "outputs": []
    },
    {
      "cell_type": "code",
      "metadata": {
        "id": "dSsWvQd6TXZv"
      },
      "source": [
        ""
      ],
      "execution_count": null,
      "outputs": []
    },
    {
      "cell_type": "code",
      "metadata": {
        "id": "kMLTt3OxTXW3"
      },
      "source": [
        ""
      ],
      "execution_count": null,
      "outputs": []
    },
    {
      "cell_type": "code",
      "metadata": {
        "id": "7X_UpmzSTXT7"
      },
      "source": [
        ""
      ],
      "execution_count": null,
      "outputs": []
    },
    {
      "cell_type": "code",
      "metadata": {
        "id": "BeSq2LIpTXQ4"
      },
      "source": [
        ""
      ],
      "execution_count": null,
      "outputs": []
    },
    {
      "cell_type": "code",
      "metadata": {
        "id": "bntywjC9TXOG"
      },
      "source": [
        ""
      ],
      "execution_count": null,
      "outputs": []
    },
    {
      "cell_type": "markdown",
      "metadata": {
        "id": "Io3cuVLzY9kF"
      },
      "source": [
        "#**KNN**"
      ]
    },
    {
      "cell_type": "code",
      "metadata": {
        "id": "j6gCK--gZqgt"
      },
      "source": [
        "from sklearn.neighbors import KNeighborsClassifier\n",
        "from sklearn.model_selection import cross_val_score\n",
        "from sklearn.model_selection import train_test_split\n",
        "from sklearn.metrics import classification_report\n",
        "from sklearn.metrics import confusion_matrix\n",
        "from sklearn.metrics import plot_confusion_matrix\n",
        "from sklearn import metrics\n",
        "from sklearn import preprocessing\n",
        "import os"
      ],
      "execution_count": 109,
      "outputs": []
    },
    {
      "cell_type": "code",
      "metadata": {
        "id": "Ki_c2g6SY8_j"
      },
      "source": [
        "\n",
        "image_size= 32\n",
        "\n",
        "dir_base='/content/chest_xray'\n",
        "test_dir = '{}/{}'.format(dir_base, 'test')\n",
        "train_dir = '{}/{}'.format(dir_base, 'train')\n",
        "val_dir = '{}/{}'.format(dir_base, 'val')\n",
        "\n",
        "test_dir_normal_cases = '{}/{}/{}'.format(dir_base, 'test','NORMAL')\n",
        "train_dir_normal_cases = '{}/{}/{}'.format(dir_base, 'train','NORMAL')\n",
        "val_dir_normal_cases = '{}/{}/{}'.format(dir_base, 'val','NORMAL')\n",
        "\n",
        "test_dir_pneumonia_cases = '{}/{}/{}'.format(dir_base, 'test','PNEUMONIA')\n",
        "train_dir_pneumonia_cases = '{}/{}/{}'.format(dir_base, 'train','PNEUMONIA')\n",
        "val_dir_pneumonia_cases = '{}/{}/{}'.format(dir_base, 'val','PNEUMONIA')\n",
        "\n",
        "\n",
        "\n"
      ],
      "execution_count": 110,
      "outputs": []
    },
    {
      "cell_type": "code",
      "metadata": {
        "id": "XY-Gxad5a2ue"
      },
      "source": [
        "def get_data(path,label,data_type,process_flipped):\n",
        "  result = []\n",
        "  items = os.listdir(path)\n",
        "  for i in items:\n",
        "    img_path = '{}/{}/{}/{}'.format(dir_base,data_type,label,i)\n",
        "    result.append((get_image_arr(img_path),label))\n",
        "    if process_flipped == True:\n",
        "      result.append((get_flipped_image_arr(img_path),label))\n",
        "  return pd.DataFrame(result, columns=['image', 'label'],index=None)"
      ],
      "execution_count": 111,
      "outputs": []
    },
    {
      "cell_type": "code",
      "metadata": {
        "id": "FU19FB6ha2ro"
      },
      "source": [
        "def get_flipped_image_arr(path):\n",
        "  original = cv2.imread(path) \n",
        "  img = cv2.flip(original, 1)\n",
        "  img = cv2.resize(img, (image_size, image_size),interpolation = cv2.INTER_AREA).reshape(1,-1)\n",
        "  return img"
      ],
      "execution_count": 112,
      "outputs": []
    },
    {
      "cell_type": "code",
      "metadata": {
        "id": "LxRaHAklZHWJ"
      },
      "source": [
        "def get_image_arr(path):\n",
        "  img = cv2.imread(path) \n",
        "  img = cv2.resize(img, (image_size, image_size),interpolation = cv2.INTER_AREA).reshape(1,-1)\n",
        "  return img"
      ],
      "execution_count": 113,
      "outputs": []
    },
    {
      "cell_type": "code",
      "metadata": {
        "id": "yZGJchplZPb5"
      },
      "source": [
        "def show_plot(k_values,accuracy_values):\n",
        "  fig = plt.figure()\n",
        "  fig.subplots_adjust(top=0.8)\n",
        "  ax1 = fig.add_subplot()\n",
        "  ax1.set_ylabel('Accuracy')\n",
        "  ax1.set_xlabel('K value')\n",
        "  plt.plot(k_values,accuracy_values,label='Accuracy for k params')\n",
        "  plt.scatter(k_values,accuracy_values,c=k_values,alpha=1)\n",
        "  plt.legend()\n",
        "  plt.show()"
      ],
      "execution_count": 114,
      "outputs": []
    },
    {
      "cell_type": "code",
      "metadata": {
        "id": "mNTKunZXdFbX"
      },
      "source": [
        "\n",
        "\n",
        "def show_confusion_matrix(model,x,y):\n",
        "  disp = plot_confusion_matrix(model, x, y,\n",
        "                               cmap=plt.cm.Blues,\n",
        "                               normalize= None, values_format = '.2f')\n",
        "  plt.show()\n",
        "\n"
      ],
      "execution_count": 144,
      "outputs": []
    },
    {
      "cell_type": "code",
      "metadata": {
        "id": "CGKxLjAZZW5T"
      },
      "source": [
        "data_normal = get_data(train_dir_normal_cases,'NORMAL','train',True)\n",
        "data_pneumonia = get_data(train_dir_pneumonia_cases,'PNEUMONIA','train',False)\n"
      ],
      "execution_count": 94,
      "outputs": []
    },
    {
      "cell_type": "code",
      "metadata": {
        "id": "mZe3-m2SZ1KL"
      },
      "source": [
        "data = pd.concat([data_normal,data_pneumonia])\n",
        "images = data.image\n",
        "y = data.label\n",
        "\n",
        "X = []\n",
        "for i in images.values:\n",
        "    X.append(i[0])\n",
        "X = np.array(X)"
      ],
      "execution_count": 116,
      "outputs": []
    },
    {
      "cell_type": "code",
      "metadata": {
        "colab": {
          "base_uri": "https://localhost:8080/"
        },
        "id": "cVveoRV-bZ0w",
        "outputId": "33dc4bce-6181-492b-92ed-c80ee73fb46e"
      },
      "source": [
        "\n",
        "\n",
        "X_train, X_test, y_train, y_test = train_test_split(X, y, test_size=0.70, random_state=30)\n",
        "print('X train shape:',X_train.shape)\n",
        "print('Y train shape:',y_train.shape)\n",
        "\n",
        "print('X train shape:',X_test.shape)\n",
        "print('Y train shape:',y_test.shape)\n"
      ],
      "execution_count": 117,
      "outputs": [
        {
          "output_type": "stream",
          "name": "stdout",
          "text": [
            "X train shape: (1967, 3072)\n",
            "Y train shape: (1967,)\n",
            "X train shape: (4590, 3072)\n",
            "Y train shape: (4590,)\n"
          ]
        }
      ]
    },
    {
      "cell_type": "code",
      "metadata": {
        "colab": {
          "base_uri": "https://localhost:8080/",
          "height": 1000
        },
        "id": "K-L053wEbZx3",
        "outputId": "023ba936-4112-40f5-a136-0d0c7ef2931c"
      },
      "source": [
        "k_values = [5,10,20]\n",
        "accuracy_values = []\n",
        "for k in k_values:\n",
        "    model = KNeighborsClassifier(n_neighbors=k)\n",
        "    model.fit(X_train,y_train)\n",
        "    predictions = model.predict(X_test)\n",
        "    acc = metrics.accuracy_score(y_test, predictions)\n",
        "    accuracy_values.append(acc)\n",
        "    print('Accuracy for k={}:'.format(str(k)),acc)\n",
        "    print('\\n')\n",
        "    print(classification_report(y_test, predictions))\n",
        "    print('=========================================================')\n",
        "    print('\\n')\n",
        "show_plot(k_values,accuracy_values)\n"
      ],
      "execution_count": 118,
      "outputs": [
        {
          "output_type": "stream",
          "name": "stdout",
          "text": [
            "Accuracy for k=5: 0.9357298474945533\n",
            "\n",
            "\n",
            "              precision    recall  f1-score   support\n",
            "\n",
            "      NORMAL       0.95      0.89      0.92      1857\n",
            "   PNEUMONIA       0.93      0.97      0.95      2733\n",
            "\n",
            "    accuracy                           0.94      4590\n",
            "   macro avg       0.94      0.93      0.93      4590\n",
            "weighted avg       0.94      0.94      0.94      4590\n",
            "\n",
            "=========================================================\n",
            "\n",
            "\n",
            "Accuracy for k=10: 0.9405228758169935\n",
            "\n",
            "\n",
            "              precision    recall  f1-score   support\n",
            "\n",
            "      NORMAL       0.94      0.91      0.93      1857\n",
            "   PNEUMONIA       0.94      0.96      0.95      2733\n",
            "\n",
            "    accuracy                           0.94      4590\n",
            "   macro avg       0.94      0.94      0.94      4590\n",
            "weighted avg       0.94      0.94      0.94      4590\n",
            "\n",
            "=========================================================\n",
            "\n",
            "\n",
            "Accuracy for k=20: 0.9392156862745098\n",
            "\n",
            "\n",
            "              precision    recall  f1-score   support\n",
            "\n",
            "      NORMAL       0.95      0.90      0.92      1857\n",
            "   PNEUMONIA       0.93      0.97      0.95      2733\n",
            "\n",
            "    accuracy                           0.94      4590\n",
            "   macro avg       0.94      0.93      0.94      4590\n",
            "weighted avg       0.94      0.94      0.94      4590\n",
            "\n",
            "=========================================================\n",
            "\n",
            "\n"
          ]
        },
        {
          "output_type": "display_data",
          "data": {
            "image/png": "[encoded data removed]",
            "text/plain": [
              "<Figure size 432x288 with 1 Axes>"
            ]
          },
          "metadata": {
            "needs_background": "light"
          }
        }
      ]
    },
    {
      "cell_type": "code",
      "metadata": {
        "colab": {
          "base_uri": "https://localhost:8080/"
        },
        "id": "Rrh7DtMscYpg",
        "outputId": "6b2be001-565f-4a3f-ee8b-2a26dcac8aaf"
      },
      "source": [
        "knn_model = KNeighborsClassifier(n_neighbors=5)\n",
        "knn_model.fit(X,y)"
      ],
      "execution_count": 134,
      "outputs": [
        {
          "output_type": "execute_result",
          "data": {
            "text/plain": [
              "KNeighborsClassifier(algorithm='auto', leaf_size=30, metric='minkowski',\n",
              "                     metric_params=None, n_jobs=None, n_neighbors=5, p=2,\n",
              "                     weights='uniform')"
            ]
          },
          "metadata": {},
          "execution_count": 134
        }
      ]
    },
    {
      "cell_type": "code",
      "metadata": {
        "id": "qfLxtSFgcYmx"
      },
      "source": [
        "#Load test data\n",
        "test_data_normal = get_data(test_dir_normal_cases,'NORMAL','test',False)\n",
        "test_data_pneumonia = get_data(test_dir_pneumonia_cases,'PNEUMONIA','test',False)\n",
        "\n",
        "test_data_total = pd.concat([test_data_normal,test_data_pneumonia])\n",
        "\n",
        "y_test_data = test_data_total.label\n",
        "\n",
        "X_test_data = []\n",
        "for i in test_data_total.image.values:\n",
        "    X_test_data.append(i[0])\n",
        "    \n",
        "X_test_data = np.array(X_test_data)"
      ],
      "execution_count": 135,
      "outputs": []
    },
    {
      "cell_type": "code",
      "metadata": {
        "colab": {
          "base_uri": "https://localhost:8080/",
          "height": 453
        },
        "id": "DT_TB4gscYj2",
        "outputId": "d237aac9-ad73-4855-ef9e-fdf5ee22f5ed"
      },
      "source": [
        "\n",
        "\n",
        "predictions_test = knn_model.predict(X_test_data)\n",
        "acc_test = metrics.accuracy_score(y_test_data, predictions_test)\n",
        "print('Accuracy for test',acc_test)\n",
        "print(classification_report(y_test_data, predictions_test))\n",
        "show_confusion_matrix(knn_model,X_test_data,y_test_data)\n",
        "\n"
      ],
      "execution_count": 145,
      "outputs": [
        {
          "output_type": "stream",
          "name": "stdout",
          "text": [
            "Accuracy for test 0.7868589743589743\n",
            "              precision    recall  f1-score   support\n",
            "\n",
            "      NORMAL       0.97      0.44      0.61       234\n",
            "   PNEUMONIA       0.75      0.99      0.85       390\n",
            "\n",
            "    accuracy                           0.79       624\n",
            "   macro avg       0.86      0.72      0.73       624\n",
            "weighted avg       0.83      0.79      0.76       624\n",
            "\n"
          ]
        },
        {
          "output_type": "display_data",
          "data": {
            "image/png": "[encoded data removed]",
            "text/plain": [
              "<Figure size 432x288 with 2 Axes>"
            ]
          },
          "metadata": {
            "needs_background": "light"
          }
        }
      ]
    },
    {
      "cell_type": "code",
      "metadata": {
        "id": "wxcdev68caWF"
      },
      "source": [
        ""
      ],
      "execution_count": null,
      "outputs": []
    }
  ]
}