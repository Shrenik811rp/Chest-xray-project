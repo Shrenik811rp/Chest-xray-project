{
 "cells": [
  {
   "cell_type": "code",
   "execution_count": 1,
   "metadata": {},
   "outputs": [
    {
     "name": "stderr",
     "output_type": "stream",
     "text": [
      "2021-10-14 20:00:09.424847: W tensorflow/stream_executor/platform/default/dso_loader.cc:64] Could not load dynamic library 'libcudart.so.11.0'; dlerror: libcudart.so.11.0: cannot open shared object file: No such file or directory\n",
      "2021-10-14 20:00:09.425108: I tensorflow/stream_executor/cuda/cudart_stub.cc:29] Ignore above cudart dlerror if you do not have a GPU set up on your machine.\n"
     ]
    }
   ],
   "source": [
    "import numpy as np\n",
    "import pandas as pd\n",
    "from PIL import Image\n",
    "import matplotlib.pyplot as plt\n",
    "\n",
    "import tensorflow as tf\n",
    "from tensorflow.keras.layers import Flatten,Conv2D,Activation,Dense,MaxPooling2D,Dropout\n",
    "\n",
    "from tensorflow.keras.models import Sequential\n",
    "\n",
    "import cv2\n",
    "import os\n",
    "import random"
   ]
  },
  {
   "cell_type": "code",
   "execution_count": 2,
   "metadata": {},
   "outputs": [
    {
     "name": "stdout",
     "output_type": "stream",
     "text": [
      "['val', 'chest_xray', 'test', 'train', '__MACOSX']\n"
     ]
    }
   ],
   "source": [
    "dataset_folder = os.listdir(\"xray_dataset/chest_xray\")\n",
    "\n",
    "print(dataset_folder)\n",
    "#print(np.__version__)"
   ]
  },
  {
   "cell_type": "code",
   "execution_count": 3,
   "metadata": {},
   "outputs": [],
   "source": [
    "'''\n",
    "Folder paths\n",
    "'''\n",
    "train_folder = \"xray_dataset/chest_xray/train\"\n",
    "\n",
    "test_folder = \"xray_dataset/chest_xray/test\"\n",
    "\n",
    "validation_folder =\"xray_dataset/chest_xray/val\"\n"
   ]
  },
  {
   "cell_type": "code",
   "execution_count": 4,
   "metadata": {},
   "outputs": [],
   "source": [
    "\n",
    "'''\n",
    "Test,Train,Val have these folders\n",
    "'''\n",
    "labels = [\"NORMAL\",\"PNEUMONIA\"]\n",
    "\n",
    "img_size = 50\n",
    "\n",
    "def getData(dir):\n",
    "    data = []\n",
    "\n",
    "    for label in labels:\n",
    "\n",
    "        path = os.path.join(dir,label)\n",
    "        class_num = labels.index(label)\n",
    "\n",
    "        for img in os.listdir(path):\n",
    "\n",
    "            try:\n",
    "                img_arr = cv2.imread(os.path.join(path,img),cv2.IMREAD_GRAYSCALE)\n",
    "\n",
    "                new_arr = cv2.resize(img_arr,(img_size,img_size))\n",
    "\n",
    "                data.append([new_arr,class_num])\n",
    "            \n",
    "            except Exception as error:\n",
    "                print(error)\n",
    "    \n",
    "    return np.array(data,dtype=object)\n",
    "\n",
    "\n",
    "train = getData(train_folder)\n",
    "\n",
    "test = getData(test_folder)\n",
    "\n",
    "val = getData(validation_folder)\n"
   ]
  },
  {
   "cell_type": "code",
   "execution_count": 7,
   "metadata": {},
   "outputs": [],
   "source": [
    "\n",
    "'''\n",
    "Splitting data into training and testing data\n",
    "\n",
    "Extracting features and respective labels of data\n",
    "'''\n",
    "X_train = []\n",
    "Y_train = []\n",
    "\n",
    "X_val = []\n",
    "Y_val = []\n",
    "\n",
    "X_test = []\n",
    "Y_test = []\n",
    "\n",
    "\n",
    "'''\n",
    "\n",
    "Appending features to X\n",
    "Appending labels to Y\n",
    "\n",
    "'''\n",
    "for feature, label in train:\n",
    "    X_train.append(feature)\n",
    "    Y_train.append(label)\n",
    "\n",
    "for feature, label in test:\n",
    "    X_test.append(feature)\n",
    "    Y_test.append(label)\n",
    "    \n",
    "for feature, label in val:\n",
    "    X_val.append(feature)\n",
    "    Y_val.append(label)"
   ]
  },
  {
   "cell_type": "code",
   "execution_count": 8,
   "metadata": {},
   "outputs": [],
   "source": [
    "'''\n",
    "Normalisation\n",
    "'''\n",
    "\n",
    "X_train = np.array(X_train) / 255\n",
    "\n",
    "X_val = np.array(X_val) / 255\n",
    "\n",
    "X_test = np.array(X_test) / 255"
   ]
  },
  {
   "cell_type": "code",
   "execution_count": 9,
   "metadata": {},
   "outputs": [
    {
     "name": "stdout",
     "output_type": "stream",
     "text": [
      "X_train shape: (5216, 50, 50)\n",
      "X_test shape: (624, 50, 50)\n",
      "X_val shape: (16, 50, 50)\n",
      "Y_train length: 5216\n",
      "Y_test length : 624\n",
      "Y_val length : 16\n"
     ]
    }
   ],
   "source": [
    "\n",
    "'''\n",
    "Dimensions\n",
    "'''\n",
    "print(f\"X_train shape: {X_train.shape}\")\n",
    "\n",
    "print(f\"X_test shape: {X_test.shape}\")\n",
    "\n",
    "print(f\"X_val shape: {X_val.shape}\")\n",
    "\n",
    "print(f\"Y_train length: {len(Y_train)}\")\n",
    "\n",
    "print(f\"Y_test length : {len(Y_test)}\")\n",
    "\n",
    "print(f\"Y_val length : {len(Y_val)}\")\n"
   ]
  },
  {
   "cell_type": "code",
   "execution_count": 10,
   "metadata": {},
   "outputs": [],
   "source": [
    "\n",
    "'''\n",
    "Resizing the test ,train and validation array\n",
    "\n",
    "'''\n",
    "\n",
    "X_train = X_train.reshape(-1, img_size, img_size, 1)\n",
    "Y_train = np.array(Y_train)\n",
    "\n",
    "X_val = X_val.reshape(-1, img_size, img_size, 1)\n",
    "Y_val = np.array(Y_val)\n",
    "\n",
    "X_test = X_test.reshape(-1, img_size, img_size, 1)\n",
    "Y_test = np.array(Y_test)"
   ]
  },
  {
   "cell_type": "code",
   "execution_count": 11,
   "metadata": {},
   "outputs": [
    {
     "name": "stdout",
     "output_type": "stream",
     "text": [
      "X_train shape new : (5216, 50, 50, 1)\n",
      "X_test shape new : (624, 50, 50, 1)\n",
      "X_val shape new : (16, 50, 50, 1)\n",
      "Y_train shape new length: 5216\n",
      "Y_test shape new length: 624\n",
      "Y_val shape new length: 16\n"
     ]
    }
   ],
   "source": [
    "'''\n",
    "New resized dimensions\n",
    "\n",
    "'''\n",
    "print(f\"X_train shape new : {X_train.shape}\")\n",
    "\n",
    "print(f\"X_test shape new : {X_test.shape}\")\n",
    "\n",
    "print(f\"X_val shape new : {X_val.shape}\")\n",
    "\n",
    "print(f\"Y_train shape new length: {len(Y_train)}\")\n",
    "\n",
    "print(f\"Y_test shape new length: {len(Y_test)}\")\n",
    "\n",
    "print(f\"Y_val shape new length: {len(Y_val)}\")\n",
    "\n"
   ]
  },
  {
   "cell_type": "code",
   "execution_count": 13,
   "metadata": {},
   "outputs": [],
   "source": [
    "\n",
    "'''\n",
    "Training Model using CNN\n",
    "'''\n",
    "\n",
    "\n",
    "\n",
    "model = Sequential()\n",
    "\n",
    "'''\n",
    "Passing the model through a convolution model \n",
    "Activation method used is relu\n",
    "'''\n",
    "model.add(Conv2D(32, (3, 3), padding=\"same\", input_shape=X_train.shape[1:]))\n",
    "model.add(Activation(\"relu\"))\n",
    "model.add(MaxPooling2D(2, 2))\n",
    "model.add(Dropout(0.2))\n",
    "\n",
    "model.add(Conv2D(64, (3, 3), padding=\"same\"))\n",
    "model.add(Activation(\"relu\"))\n",
    "model.add(MaxPooling2D(2, 2))\n",
    "model.add(Dropout(0.2))\n",
    "\n",
    "model.add(Conv2D(128, (3, 3), padding=\"same\"))\n",
    "model.add(Activation(\"relu\"))\n",
    "model.add(MaxPooling2D(2, 2))\n",
    "model.add(Dropout(0.2))\n",
    "\n",
    "\n",
    "#Flattening the model into 1D array\n",
    "model.add(Flatten())\n",
    "model.add(Dense(256, activation=\"relu\"))\n",
    "\n",
    "model.add(Dense(1))\n",
    "model.add(Activation(\"sigmoid\"))\n"
   ]
  },
  {
   "cell_type": "code",
   "execution_count": 14,
   "metadata": {},
   "outputs": [
    {
     "name": "stderr",
     "output_type": "stream",
     "text": [
      "2021-10-14 20:03:49.646174: W tensorflow/core/framework/cpu_allocator_impl.cc:80] Allocation of 52160000 exceeds 10% of free system memory.\n",
      "2021-10-14 20:03:49.767114: I tensorflow/compiler/mlir/mlir_graph_optimization_pass.cc:185] None of the MLIR Optimization Passes are enabled (registered 2)\n"
     ]
    },
    {
     "name": "stdout",
     "output_type": "stream",
     "text": [
      "Epoch 1/10\n",
      "163/163 [==============================] - 10s 60ms/step - loss: 0.3281 - accuracy: 0.8595 - val_loss: 0.4852 - val_accuracy: 0.6875\n",
      "Epoch 2/10\n",
      "163/163 [==============================] - 9s 56ms/step - loss: 0.1355 - accuracy: 0.9457 - val_loss: 0.9501 - val_accuracy: 0.5625\n",
      "Epoch 3/10\n",
      "163/163 [==============================] - 9s 54ms/step - loss: 0.1142 - accuracy: 0.9576 - val_loss: 0.5182 - val_accuracy: 0.8125\n",
      "Epoch 4/10\n",
      "163/163 [==============================] - 9s 53ms/step - loss: 0.0929 - accuracy: 0.9653 - val_loss: 0.4766 - val_accuracy: 0.8125\n",
      "Epoch 5/10\n",
      "163/163 [==============================] - 8s 50ms/step - loss: 0.0803 - accuracy: 0.9701 - val_loss: 0.3993 - val_accuracy: 0.8125\n",
      "Epoch 6/10\n",
      "163/163 [==============================] - 8s 51ms/step - loss: 0.0714 - accuracy: 0.9741 - val_loss: 0.2857 - val_accuracy: 0.9375\n",
      "Epoch 7/10\n",
      "163/163 [==============================] - 9s 52ms/step - loss: 0.0679 - accuracy: 0.9739 - val_loss: 0.1069 - val_accuracy: 1.0000\n",
      "Epoch 8/10\n",
      "163/163 [==============================] - 9s 54ms/step - loss: 0.0668 - accuracy: 0.9764 - val_loss: 0.2158 - val_accuracy: 0.8125\n",
      "Epoch 9/10\n",
      "163/163 [==============================] - 9s 52ms/step - loss: 0.0604 - accuracy: 0.9780 - val_loss: 0.1181 - val_accuracy: 1.0000\n",
      "Epoch 10/10\n",
      "163/163 [==============================] - 8s 51ms/step - loss: 0.0558 - accuracy: 0.9774 - val_loss: 0.1342 - val_accuracy: 1.0000\n",
      "20/20 [==============================] - 0s 13ms/step - loss: 1.1178 - accuracy: 0.7516\n"
     ]
    },
    {
     "name": "stderr",
     "output_type": "stream",
     "text": [
      "2021-10-14 20:05:18.082843: W tensorflow/python/util/util.cc:348] Sets are not currently considered sequences, but this may change in the future, so consider avoiding using them.\n"
     ]
    },
    {
     "name": "stdout",
     "output_type": "stream",
     "text": [
      "INFO:tensorflow:Assets written to: cnn.model/assets\n",
      "Test loss 1.1177573204040527\n",
      "Test accuracy 0.7516025900840759\n"
     ]
    }
   ],
   "source": [
    "'''\n",
    "Use squared error to reduce loss\n",
    "\n",
    "Number of epochs run is 20\n",
    "'''\n",
    "model.compile(loss=\"binary_crossentropy\", optimizer=\"adam\", metrics=[\"accuracy\"])\n",
    "history = model.fit(X_train, Y_train, epochs=10, validation_data=(X_val, Y_val), shuffle=True)\n",
    "scores = model.evaluate(X_test, Y_test)\n",
    "\n",
    "model.save(\"cnn.model\")\n",
    "\n",
    "\n",
    "\n",
    "# Accuracy and loss scores\n",
    "print(\"Test loss {}\".format(scores[0]))\n",
    "print(\"Test accuracy {}\".format(scores[1]))"
   ]
  },
  {
   "cell_type": "code",
   "execution_count": 20,
   "metadata": {},
   "outputs": [
    {
     "data": {
      "image/png": "[encoded data removed]",
      "text/plain": [
       "<Figure size 432x288 with 1 Axes>"
      ]
     },
     "metadata": {
      "needs_background": "light"
     },
     "output_type": "display_data"
    },
    {
     "data": {
      "image/png": "[encoded data removed]",
      "text/plain": [
       "<Figure size 432x288 with 1 Axes>"
      ]
     },
     "metadata": {
      "needs_background": "light"
     },
     "output_type": "display_data"
    }
   ],
   "source": [
    "\n",
    "# visualizing the accuracy and loss of model\n",
    "\n",
    "accuracy = history.history['accuracy']\n",
    "val_accuracy = history.history['val_accuracy']\n",
    "loss = history.history['loss']\n",
    "val_loss = history.history['val_loss']\n",
    "epochs = range(len(accuracy))\n",
    "\n",
    "plt.plot(epochs, accuracy, \"b\", label=\"training accuracy\")\n",
    "plt.plot(epochs, val_accuracy, \"r\", label=\"validation accuracy\")\n",
    "plt.legend()\n",
    "plt.show()\n",
    "\n",
    "plt.plot(epochs, loss, \"b\", label=\"training loss\")\n",
    "plt.plot(epochs, val_loss, \"r\", label=\"validation loss\")\n",
    "plt.legend()\n",
    "plt.show()"
   ]
  },
  {
   "cell_type": "code",
   "execution_count": 25,
   "metadata": {},
   "outputs": [],
   "source": [
    "labels = [\"NORMAL\", \"PNEUMONIA\"]\n",
    "def prepare(filepath):\n",
    "    img_array = cv2.imread(filepath, cv2.IMREAD_GRAYSCALE)\n",
    "    new_array = cv2.resize(img_array, (img_size, img_size))\n",
    "    return new_array.reshape(-1, img_size, img_size, 1)\n",
    "\n",
    "model = tf.keras.models.load_model(\"cnn.model\") # load model"
   ]
  },
  {
   "cell_type": "code",
   "execution_count": 28,
   "metadata": {},
   "outputs": [
    {
     "name": "stdout",
     "output_type": "stream",
     "text": [
      "Predicted value :PNEUMONIA\n"
     ]
    }
   ],
   "source": [
    "# extra pneumonia photo from google\n",
    "prediction = model.predict([prepare(\"xray_dataset/chest_xray/chest_xray/test/PNEUMONIA/person1_virus_6.jpeg\")])\n",
    "print(f'Predicted value : {labels[int(prediction[0])]}')"
   ]
  },
  {
   "cell_type": "code",
   "execution_count": null,
   "metadata": {},
   "outputs": [],
   "source": []
  },
  {
   "cell_type": "code",
   "execution_count": null,
   "metadata": {},
   "outputs": [],
   "source": []
  },
  {
   "cell_type": "code",
   "execution_count": null,
   "metadata": {},
   "outputs": [],
   "source": []
  },
  {
   "cell_type": "code",
   "execution_count": null,
   "metadata": {},
   "outputs": [],
   "source": []
  },
  {
   "cell_type": "code",
   "execution_count": null,
   "metadata": {},
   "outputs": [],
   "source": []
  },
  {
   "cell_type": "code",
   "execution_count": null,
   "metadata": {},
   "outputs": [],
   "source": []
  }
 ],
 "metadata": {
  "interpreter": {
   "hash": "28553918cba9ae00b4eb81b061b0f90ae0826a29ee7bc081971588073fda4b64"
  },
  "kernelspec": {
   "display_name": "Python 3.8.10 64-bit ('xray': venv)",
   "name": "python3"
  },
  "language_info": {
   "codemirror_mode": {
    "name": "ipython",
    "version": 3
   },
   "file_extension": ".py",
   "mimetype": "text/x-python",
   "name": "python",
   "nbconvert_exporter": "python",
   "pygments_lexer": "ipython3",
   "version": "3.8.10"
  },
  "orig_nbformat": 4
 },
 "nbformat": 4,
 "nbformat_minor": 2
}
